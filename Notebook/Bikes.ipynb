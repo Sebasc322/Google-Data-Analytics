{
  "nbformat": 4,
  "nbformat_minor": 0,
  "metadata": {
    "colab": {
      "name": "Bikes.ipynb",
      "provenance": []
    },
    "kernelspec": {
      "name": "python3",
      "display_name": "Python 3"
    },
    "language_info": {
      "name": "python"
    }
  },
  "cells": [
    {
      "cell_type": "markdown",
      "metadata": {
        "id": "bq2k5KuKNZjh"
      },
      "source": [
        "#Importing Libraries"
      ]
    },
    {
      "cell_type": "code",
      "metadata": {
        "id": "DmLPKvVDsTfW"
      },
      "source": [
        "import pandas as pd\n",
        "import os\n",
        "from datetime import datetime\n",
        "import seaborn as sns\n",
        "import matplotlib.pyplot as plt"
      ],
      "execution_count": 18,
      "outputs": []
    },
    {
      "cell_type": "markdown",
      "metadata": {
        "id": "QRPc0gltNXvO"
      },
      "source": [
        "#Importing Data"
      ]
    },
    {
      "cell_type": "code",
      "metadata": {
        "colab": {
          "base_uri": "https://localhost:8080/"
        },
        "id": "ofhNOOruNXge",
        "outputId": "2352814d-efb0-4353-8d65-e6d6b9cf2cd3"
      },
      "source": [
        "from google.colab import drive\n",
        "\n",
        "drive.mount('/content/gdrive/', force_remount=True)\n",
        "%cd gdrive/MyDrive/Tableau_Practice/Bikes"
      ],
      "execution_count": 2,
      "outputs": [
        {
          "output_type": "stream",
          "name": "stdout",
          "text": [
            "Mounted at /content/gdrive/\n",
            "/content/gdrive/MyDrive/Tableau_Practice/Bikes\n"
          ]
        }
      ]
    },
    {
      "cell_type": "code",
      "metadata": {
        "colab": {
          "base_uri": "https://localhost:8080/"
        },
        "id": "BbhvU9lDOCHw",
        "outputId": "e0a54fc3-50c5-429c-afbd-fad8addc32d6"
      },
      "source": [
        "for file in os.listdir():\n",
        "  print(file)"
      ],
      "execution_count": 3,
      "outputs": [
        {
          "output_type": "stream",
          "name": "stdout",
          "text": [
            "202101-divvy-tripdata.csv\n",
            "202102-divvy-tripdata.csv\n",
            "202103-divvy-tripdata.csv\n",
            "202104-divvy-tripdata.csv\n",
            "202105-divvy-tripdata.csv\n",
            "202106-divvy-tripdata.csv\n",
            "202107-divvy-tripdata.csv\n",
            "202108-divvy-tripdata.csv\n",
            "202109-divvy-tripdata.csv\n",
            "Bikes.ipynb\n"
          ]
        }
      ]
    },
    {
      "cell_type": "markdown",
      "source": [
        "## Test File\n",
        "\n",
        "On this test file we will make a pipeline of one single file and see what are the things we will like to create before creating one single file for all the 9 months of Bike Rides. \n",
        "\n",
        "Some of the things I will like to create for further analyzing:\n",
        "\n",
        "1. Distances between start and end stations\n",
        "2. Time of the ride"
      ],
      "metadata": {
        "id": "46ZWaVT-xZ2w"
      }
    },
    {
      "cell_type": "code",
      "metadata": {
        "id": "hTmOGcQdO6Xe",
        "colab": {
          "base_uri": "https://localhost:8080/",
          "height": 424
        },
        "outputId": "dcf4414d-caa7-4754-e440-a34b997d7ba2"
      },
      "source": [
        "test = pd.read_csv('202101-divvy-tripdata.csv')\n",
        "test"
      ],
      "execution_count": 4,
      "outputs": [
        {
          "output_type": "execute_result",
          "data": {
            "text/html": [
              "\n",
              "  <div id=\"df-05905204-ebe2-4220-bd81-3b1d39a413a4\">\n",
              "    <div class=\"colab-df-container\">\n",
              "      <div>\n",
              "<style scoped>\n",
              "    .dataframe tbody tr th:only-of-type {\n",
              "        vertical-align: middle;\n",
              "    }\n",
              "\n",
              "    .dataframe tbody tr th {\n",
              "        vertical-align: top;\n",
              "    }\n",
              "\n",
              "    .dataframe thead th {\n",
              "        text-align: right;\n",
              "    }\n",
              "</style>\n",
              "<table border=\"1\" class=\"dataframe\">\n",
              "  <thead>\n",
              "    <tr style=\"text-align: right;\">\n",
              "      <th></th>\n",
              "      <th>ride_id</th>\n",
              "      <th>rideable_type</th>\n",
              "      <th>started_at</th>\n",
              "      <th>ended_at</th>\n",
              "      <th>start_station_name</th>\n",
              "      <th>start_station_id</th>\n",
              "      <th>end_station_name</th>\n",
              "      <th>end_station_id</th>\n",
              "      <th>start_lat</th>\n",
              "      <th>start_lng</th>\n",
              "      <th>end_lat</th>\n",
              "      <th>end_lng</th>\n",
              "      <th>member_casual</th>\n",
              "    </tr>\n",
              "  </thead>\n",
              "  <tbody>\n",
              "    <tr>\n",
              "      <th>0</th>\n",
              "      <td>E19E6F1B8D4C42ED</td>\n",
              "      <td>electric_bike</td>\n",
              "      <td>2021-01-23 16:14:19</td>\n",
              "      <td>2021-01-23 16:24:44</td>\n",
              "      <td>California Ave &amp; Cortez St</td>\n",
              "      <td>17660</td>\n",
              "      <td>NaN</td>\n",
              "      <td>NaN</td>\n",
              "      <td>41.900341</td>\n",
              "      <td>-87.696743</td>\n",
              "      <td>41.890000</td>\n",
              "      <td>-87.720000</td>\n",
              "      <td>member</td>\n",
              "    </tr>\n",
              "    <tr>\n",
              "      <th>1</th>\n",
              "      <td>DC88F20C2C55F27F</td>\n",
              "      <td>electric_bike</td>\n",
              "      <td>2021-01-27 18:43:08</td>\n",
              "      <td>2021-01-27 18:47:12</td>\n",
              "      <td>California Ave &amp; Cortez St</td>\n",
              "      <td>17660</td>\n",
              "      <td>NaN</td>\n",
              "      <td>NaN</td>\n",
              "      <td>41.900333</td>\n",
              "      <td>-87.696707</td>\n",
              "      <td>41.900000</td>\n",
              "      <td>-87.690000</td>\n",
              "      <td>member</td>\n",
              "    </tr>\n",
              "    <tr>\n",
              "      <th>2</th>\n",
              "      <td>EC45C94683FE3F27</td>\n",
              "      <td>electric_bike</td>\n",
              "      <td>2021-01-21 22:35:54</td>\n",
              "      <td>2021-01-21 22:37:14</td>\n",
              "      <td>California Ave &amp; Cortez St</td>\n",
              "      <td>17660</td>\n",
              "      <td>NaN</td>\n",
              "      <td>NaN</td>\n",
              "      <td>41.900313</td>\n",
              "      <td>-87.696643</td>\n",
              "      <td>41.900000</td>\n",
              "      <td>-87.700000</td>\n",
              "      <td>member</td>\n",
              "    </tr>\n",
              "    <tr>\n",
              "      <th>3</th>\n",
              "      <td>4FA453A75AE377DB</td>\n",
              "      <td>electric_bike</td>\n",
              "      <td>2021-01-07 13:31:13</td>\n",
              "      <td>2021-01-07 13:42:55</td>\n",
              "      <td>California Ave &amp; Cortez St</td>\n",
              "      <td>17660</td>\n",
              "      <td>NaN</td>\n",
              "      <td>NaN</td>\n",
              "      <td>41.900399</td>\n",
              "      <td>-87.696662</td>\n",
              "      <td>41.920000</td>\n",
              "      <td>-87.690000</td>\n",
              "      <td>member</td>\n",
              "    </tr>\n",
              "    <tr>\n",
              "      <th>4</th>\n",
              "      <td>BE5E8EB4E7263A0B</td>\n",
              "      <td>electric_bike</td>\n",
              "      <td>2021-01-23 02:24:02</td>\n",
              "      <td>2021-01-23 02:24:45</td>\n",
              "      <td>California Ave &amp; Cortez St</td>\n",
              "      <td>17660</td>\n",
              "      <td>NaN</td>\n",
              "      <td>NaN</td>\n",
              "      <td>41.900326</td>\n",
              "      <td>-87.696697</td>\n",
              "      <td>41.900000</td>\n",
              "      <td>-87.700000</td>\n",
              "      <td>casual</td>\n",
              "    </tr>\n",
              "    <tr>\n",
              "      <th>...</th>\n",
              "      <td>...</td>\n",
              "      <td>...</td>\n",
              "      <td>...</td>\n",
              "      <td>...</td>\n",
              "      <td>...</td>\n",
              "      <td>...</td>\n",
              "      <td>...</td>\n",
              "      <td>...</td>\n",
              "      <td>...</td>\n",
              "      <td>...</td>\n",
              "      <td>...</td>\n",
              "      <td>...</td>\n",
              "      <td>...</td>\n",
              "    </tr>\n",
              "    <tr>\n",
              "      <th>96829</th>\n",
              "      <td>B1A5336E1412D8BF</td>\n",
              "      <td>classic_bike</td>\n",
              "      <td>2021-01-19 19:03:17</td>\n",
              "      <td>2021-01-19 20:10:03</td>\n",
              "      <td>Lake Shore Dr &amp; Monroe St</td>\n",
              "      <td>13300</td>\n",
              "      <td>Lakefront Trail &amp; Bryn Mawr Ave</td>\n",
              "      <td>KA1504000152</td>\n",
              "      <td>41.880958</td>\n",
              "      <td>-87.616743</td>\n",
              "      <td>41.984037</td>\n",
              "      <td>-87.652310</td>\n",
              "      <td>member</td>\n",
              "    </tr>\n",
              "    <tr>\n",
              "      <th>96830</th>\n",
              "      <td>57EA5CB7DCD75F90</td>\n",
              "      <td>classic_bike</td>\n",
              "      <td>2021-01-05 18:42:27</td>\n",
              "      <td>2021-01-05 19:33:33</td>\n",
              "      <td>Lake Shore Dr &amp; Monroe St</td>\n",
              "      <td>13300</td>\n",
              "      <td>Lakefront Trail &amp; Bryn Mawr Ave</td>\n",
              "      <td>KA1504000152</td>\n",
              "      <td>41.880958</td>\n",
              "      <td>-87.616743</td>\n",
              "      <td>41.984037</td>\n",
              "      <td>-87.652310</td>\n",
              "      <td>member</td>\n",
              "    </tr>\n",
              "    <tr>\n",
              "      <th>96831</th>\n",
              "      <td>815B319A078CC984</td>\n",
              "      <td>classic_bike</td>\n",
              "      <td>2021-01-07 17:59:47</td>\n",
              "      <td>2021-01-07 19:34:03</td>\n",
              "      <td>Lakefront Trail &amp; Bryn Mawr Ave</td>\n",
              "      <td>KA1504000152</td>\n",
              "      <td>Lakefront Trail &amp; Bryn Mawr Ave</td>\n",
              "      <td>KA1504000152</td>\n",
              "      <td>41.984037</td>\n",
              "      <td>-87.652310</td>\n",
              "      <td>41.984037</td>\n",
              "      <td>-87.652310</td>\n",
              "      <td>member</td>\n",
              "    </tr>\n",
              "    <tr>\n",
              "      <th>96832</th>\n",
              "      <td>6DB04151565CEE63</td>\n",
              "      <td>classic_bike</td>\n",
              "      <td>2021-01-06 19:20:31</td>\n",
              "      <td>2021-01-06 20:41:57</td>\n",
              "      <td>Lakefront Trail &amp; Bryn Mawr Ave</td>\n",
              "      <td>KA1504000152</td>\n",
              "      <td>Lakefront Trail &amp; Bryn Mawr Ave</td>\n",
              "      <td>KA1504000152</td>\n",
              "      <td>41.984037</td>\n",
              "      <td>-87.652310</td>\n",
              "      <td>41.984037</td>\n",
              "      <td>-87.652310</td>\n",
              "      <td>member</td>\n",
              "    </tr>\n",
              "    <tr>\n",
              "      <th>96833</th>\n",
              "      <td>8008C9C998083A1A</td>\n",
              "      <td>docked_bike</td>\n",
              "      <td>2021-01-17 13:20:02</td>\n",
              "      <td>2021-01-17 14:17:00</td>\n",
              "      <td>Lake Shore Dr &amp; Monroe St</td>\n",
              "      <td>13300</td>\n",
              "      <td>Lake Shore Dr &amp; Monroe St</td>\n",
              "      <td>13300</td>\n",
              "      <td>41.880958</td>\n",
              "      <td>-87.616743</td>\n",
              "      <td>41.880958</td>\n",
              "      <td>-87.616743</td>\n",
              "      <td>casual</td>\n",
              "    </tr>\n",
              "  </tbody>\n",
              "</table>\n",
              "<p>96834 rows × 13 columns</p>\n",
              "</div>\n",
              "      <button class=\"colab-df-convert\" onclick=\"convertToInteractive('df-05905204-ebe2-4220-bd81-3b1d39a413a4')\"\n",
              "              title=\"Convert this dataframe to an interactive table.\"\n",
              "              style=\"display:none;\">\n",
              "        \n",
              "  <svg xmlns=\"http://www.w3.org/2000/svg\" height=\"24px\"viewBox=\"0 0 24 24\"\n",
              "       width=\"24px\">\n",
              "    <path d=\"M0 0h24v24H0V0z\" fill=\"none\"/>\n",
              "    <path d=\"M18.56 5.44l.94 2.06.94-2.06 2.06-.94-2.06-.94-.94-2.06-.94 2.06-2.06.94zm-11 1L8.5 8.5l.94-2.06 2.06-.94-2.06-.94L8.5 2.5l-.94 2.06-2.06.94zm10 10l.94 2.06.94-2.06 2.06-.94-2.06-.94-.94-2.06-.94 2.06-2.06.94z\"/><path d=\"M17.41 7.96l-1.37-1.37c-.4-.4-.92-.59-1.43-.59-.52 0-1.04.2-1.43.59L10.3 9.45l-7.72 7.72c-.78.78-.78 2.05 0 2.83L4 21.41c.39.39.9.59 1.41.59.51 0 1.02-.2 1.41-.59l7.78-7.78 2.81-2.81c.8-.78.8-2.07 0-2.86zM5.41 20L4 18.59l7.72-7.72 1.47 1.35L5.41 20z\"/>\n",
              "  </svg>\n",
              "      </button>\n",
              "      \n",
              "  <style>\n",
              "    .colab-df-container {\n",
              "      display:flex;\n",
              "      flex-wrap:wrap;\n",
              "      gap: 12px;\n",
              "    }\n",
              "\n",
              "    .colab-df-convert {\n",
              "      background-color: #E8F0FE;\n",
              "      border: none;\n",
              "      border-radius: 50%;\n",
              "      cursor: pointer;\n",
              "      display: none;\n",
              "      fill: #1967D2;\n",
              "      height: 32px;\n",
              "      padding: 0 0 0 0;\n",
              "      width: 32px;\n",
              "    }\n",
              "\n",
              "    .colab-df-convert:hover {\n",
              "      background-color: #E2EBFA;\n",
              "      box-shadow: 0px 1px 2px rgba(60, 64, 67, 0.3), 0px 1px 3px 1px rgba(60, 64, 67, 0.15);\n",
              "      fill: #174EA6;\n",
              "    }\n",
              "\n",
              "    [theme=dark] .colab-df-convert {\n",
              "      background-color: #3B4455;\n",
              "      fill: #D2E3FC;\n",
              "    }\n",
              "\n",
              "    [theme=dark] .colab-df-convert:hover {\n",
              "      background-color: #434B5C;\n",
              "      box-shadow: 0px 1px 3px 1px rgba(0, 0, 0, 0.15);\n",
              "      filter: drop-shadow(0px 1px 2px rgba(0, 0, 0, 0.3));\n",
              "      fill: #FFFFFF;\n",
              "    }\n",
              "  </style>\n",
              "\n",
              "      <script>\n",
              "        const buttonEl =\n",
              "          document.querySelector('#df-05905204-ebe2-4220-bd81-3b1d39a413a4 button.colab-df-convert');\n",
              "        buttonEl.style.display =\n",
              "          google.colab.kernel.accessAllowed ? 'block' : 'none';\n",
              "\n",
              "        async function convertToInteractive(key) {\n",
              "          const element = document.querySelector('#df-05905204-ebe2-4220-bd81-3b1d39a413a4');\n",
              "          const dataTable =\n",
              "            await google.colab.kernel.invokeFunction('convertToInteractive',\n",
              "                                                     [key], {});\n",
              "          if (!dataTable) return;\n",
              "\n",
              "          const docLinkHtml = 'Like what you see? Visit the ' +\n",
              "            '<a target=\"_blank\" href=https://colab.research.google.com/notebooks/data_table.ipynb>data table notebook</a>'\n",
              "            + ' to learn more about interactive tables.';\n",
              "          element.innerHTML = '';\n",
              "          dataTable['output_type'] = 'display_data';\n",
              "          await google.colab.output.renderOutput(dataTable, element);\n",
              "          const docLink = document.createElement('div');\n",
              "          docLink.innerHTML = docLinkHtml;\n",
              "          element.appendChild(docLink);\n",
              "        }\n",
              "      </script>\n",
              "    </div>\n",
              "  </div>\n",
              "  "
            ],
            "text/plain": [
              "                ride_id  rideable_type  ...    end_lng member_casual\n",
              "0      E19E6F1B8D4C42ED  electric_bike  ... -87.720000        member\n",
              "1      DC88F20C2C55F27F  electric_bike  ... -87.690000        member\n",
              "2      EC45C94683FE3F27  electric_bike  ... -87.700000        member\n",
              "3      4FA453A75AE377DB  electric_bike  ... -87.690000        member\n",
              "4      BE5E8EB4E7263A0B  electric_bike  ... -87.700000        casual\n",
              "...                 ...            ...  ...        ...           ...\n",
              "96829  B1A5336E1412D8BF   classic_bike  ... -87.652310        member\n",
              "96830  57EA5CB7DCD75F90   classic_bike  ... -87.652310        member\n",
              "96831  815B319A078CC984   classic_bike  ... -87.652310        member\n",
              "96832  6DB04151565CEE63   classic_bike  ... -87.652310        member\n",
              "96833  8008C9C998083A1A    docked_bike  ... -87.616743        casual\n",
              "\n",
              "[96834 rows x 13 columns]"
            ]
          },
          "metadata": {},
          "execution_count": 4
        }
      ]
    },
    {
      "cell_type": "code",
      "source": [
        "test.info()"
      ],
      "metadata": {
        "colab": {
          "base_uri": "https://localhost:8080/"
        },
        "id": "A7_E1pnMkOpX",
        "outputId": "bc908f13-7699-4d23-fc60-95ece528ad6e"
      },
      "execution_count": 5,
      "outputs": [
        {
          "output_type": "stream",
          "name": "stdout",
          "text": [
            "<class 'pandas.core.frame.DataFrame'>\n",
            "RangeIndex: 96834 entries, 0 to 96833\n",
            "Data columns (total 13 columns):\n",
            " #   Column              Non-Null Count  Dtype  \n",
            "---  ------              --------------  -----  \n",
            " 0   ride_id             96834 non-null  object \n",
            " 1   rideable_type       96834 non-null  object \n",
            " 2   started_at          96834 non-null  object \n",
            " 3   ended_at            96834 non-null  object \n",
            " 4   start_station_name  88209 non-null  object \n",
            " 5   start_station_id    88209 non-null  object \n",
            " 6   end_station_name    86557 non-null  object \n",
            " 7   end_station_id      86557 non-null  object \n",
            " 8   start_lat           96834 non-null  float64\n",
            " 9   start_lng           96834 non-null  float64\n",
            " 10  end_lat             96731 non-null  float64\n",
            " 11  end_lng             96731 non-null  float64\n",
            " 12  member_casual       96834 non-null  object \n",
            "dtypes: float64(4), object(9)\n",
            "memory usage: 9.6+ MB\n"
          ]
        }
      ]
    },
    {
      "cell_type": "markdown",
      "source": [
        "Time per ride on the test file"
      ],
      "metadata": {
        "id": "6kqk4vswkEUG"
      }
    },
    {
      "cell_type": "code",
      "source": [
        "test[\"started_at\"] = pd.to_datetime(test[\"started_at\"])\n",
        "test[\"ended_at\"] = pd.to_datetime(test[\"ended_at\"])\n",
        "test"
      ],
      "metadata": {
        "colab": {
          "base_uri": "https://localhost:8080/",
          "height": 424
        },
        "id": "IF-BsKBalCZG",
        "outputId": "09198bc9-5400-40d2-dd97-1130bef580fa"
      },
      "execution_count": 6,
      "outputs": [
        {
          "output_type": "execute_result",
          "data": {
            "text/html": [
              "\n",
              "  <div id=\"df-226717a8-0847-47ef-9d84-52c686ed90ef\">\n",
              "    <div class=\"colab-df-container\">\n",
              "      <div>\n",
              "<style scoped>\n",
              "    .dataframe tbody tr th:only-of-type {\n",
              "        vertical-align: middle;\n",
              "    }\n",
              "\n",
              "    .dataframe tbody tr th {\n",
              "        vertical-align: top;\n",
              "    }\n",
              "\n",
              "    .dataframe thead th {\n",
              "        text-align: right;\n",
              "    }\n",
              "</style>\n",
              "<table border=\"1\" class=\"dataframe\">\n",
              "  <thead>\n",
              "    <tr style=\"text-align: right;\">\n",
              "      <th></th>\n",
              "      <th>ride_id</th>\n",
              "      <th>rideable_type</th>\n",
              "      <th>started_at</th>\n",
              "      <th>ended_at</th>\n",
              "      <th>start_station_name</th>\n",
              "      <th>start_station_id</th>\n",
              "      <th>end_station_name</th>\n",
              "      <th>end_station_id</th>\n",
              "      <th>start_lat</th>\n",
              "      <th>start_lng</th>\n",
              "      <th>end_lat</th>\n",
              "      <th>end_lng</th>\n",
              "      <th>member_casual</th>\n",
              "    </tr>\n",
              "  </thead>\n",
              "  <tbody>\n",
              "    <tr>\n",
              "      <th>0</th>\n",
              "      <td>E19E6F1B8D4C42ED</td>\n",
              "      <td>electric_bike</td>\n",
              "      <td>2021-01-23 16:14:19</td>\n",
              "      <td>2021-01-23 16:24:44</td>\n",
              "      <td>California Ave &amp; Cortez St</td>\n",
              "      <td>17660</td>\n",
              "      <td>NaN</td>\n",
              "      <td>NaN</td>\n",
              "      <td>41.900341</td>\n",
              "      <td>-87.696743</td>\n",
              "      <td>41.890000</td>\n",
              "      <td>-87.720000</td>\n",
              "      <td>member</td>\n",
              "    </tr>\n",
              "    <tr>\n",
              "      <th>1</th>\n",
              "      <td>DC88F20C2C55F27F</td>\n",
              "      <td>electric_bike</td>\n",
              "      <td>2021-01-27 18:43:08</td>\n",
              "      <td>2021-01-27 18:47:12</td>\n",
              "      <td>California Ave &amp; Cortez St</td>\n",
              "      <td>17660</td>\n",
              "      <td>NaN</td>\n",
              "      <td>NaN</td>\n",
              "      <td>41.900333</td>\n",
              "      <td>-87.696707</td>\n",
              "      <td>41.900000</td>\n",
              "      <td>-87.690000</td>\n",
              "      <td>member</td>\n",
              "    </tr>\n",
              "    <tr>\n",
              "      <th>2</th>\n",
              "      <td>EC45C94683FE3F27</td>\n",
              "      <td>electric_bike</td>\n",
              "      <td>2021-01-21 22:35:54</td>\n",
              "      <td>2021-01-21 22:37:14</td>\n",
              "      <td>California Ave &amp; Cortez St</td>\n",
              "      <td>17660</td>\n",
              "      <td>NaN</td>\n",
              "      <td>NaN</td>\n",
              "      <td>41.900313</td>\n",
              "      <td>-87.696643</td>\n",
              "      <td>41.900000</td>\n",
              "      <td>-87.700000</td>\n",
              "      <td>member</td>\n",
              "    </tr>\n",
              "    <tr>\n",
              "      <th>3</th>\n",
              "      <td>4FA453A75AE377DB</td>\n",
              "      <td>electric_bike</td>\n",
              "      <td>2021-01-07 13:31:13</td>\n",
              "      <td>2021-01-07 13:42:55</td>\n",
              "      <td>California Ave &amp; Cortez St</td>\n",
              "      <td>17660</td>\n",
              "      <td>NaN</td>\n",
              "      <td>NaN</td>\n",
              "      <td>41.900399</td>\n",
              "      <td>-87.696662</td>\n",
              "      <td>41.920000</td>\n",
              "      <td>-87.690000</td>\n",
              "      <td>member</td>\n",
              "    </tr>\n",
              "    <tr>\n",
              "      <th>4</th>\n",
              "      <td>BE5E8EB4E7263A0B</td>\n",
              "      <td>electric_bike</td>\n",
              "      <td>2021-01-23 02:24:02</td>\n",
              "      <td>2021-01-23 02:24:45</td>\n",
              "      <td>California Ave &amp; Cortez St</td>\n",
              "      <td>17660</td>\n",
              "      <td>NaN</td>\n",
              "      <td>NaN</td>\n",
              "      <td>41.900326</td>\n",
              "      <td>-87.696697</td>\n",
              "      <td>41.900000</td>\n",
              "      <td>-87.700000</td>\n",
              "      <td>casual</td>\n",
              "    </tr>\n",
              "    <tr>\n",
              "      <th>...</th>\n",
              "      <td>...</td>\n",
              "      <td>...</td>\n",
              "      <td>...</td>\n",
              "      <td>...</td>\n",
              "      <td>...</td>\n",
              "      <td>...</td>\n",
              "      <td>...</td>\n",
              "      <td>...</td>\n",
              "      <td>...</td>\n",
              "      <td>...</td>\n",
              "      <td>...</td>\n",
              "      <td>...</td>\n",
              "      <td>...</td>\n",
              "    </tr>\n",
              "    <tr>\n",
              "      <th>96829</th>\n",
              "      <td>B1A5336E1412D8BF</td>\n",
              "      <td>classic_bike</td>\n",
              "      <td>2021-01-19 19:03:17</td>\n",
              "      <td>2021-01-19 20:10:03</td>\n",
              "      <td>Lake Shore Dr &amp; Monroe St</td>\n",
              "      <td>13300</td>\n",
              "      <td>Lakefront Trail &amp; Bryn Mawr Ave</td>\n",
              "      <td>KA1504000152</td>\n",
              "      <td>41.880958</td>\n",
              "      <td>-87.616743</td>\n",
              "      <td>41.984037</td>\n",
              "      <td>-87.652310</td>\n",
              "      <td>member</td>\n",
              "    </tr>\n",
              "    <tr>\n",
              "      <th>96830</th>\n",
              "      <td>57EA5CB7DCD75F90</td>\n",
              "      <td>classic_bike</td>\n",
              "      <td>2021-01-05 18:42:27</td>\n",
              "      <td>2021-01-05 19:33:33</td>\n",
              "      <td>Lake Shore Dr &amp; Monroe St</td>\n",
              "      <td>13300</td>\n",
              "      <td>Lakefront Trail &amp; Bryn Mawr Ave</td>\n",
              "      <td>KA1504000152</td>\n",
              "      <td>41.880958</td>\n",
              "      <td>-87.616743</td>\n",
              "      <td>41.984037</td>\n",
              "      <td>-87.652310</td>\n",
              "      <td>member</td>\n",
              "    </tr>\n",
              "    <tr>\n",
              "      <th>96831</th>\n",
              "      <td>815B319A078CC984</td>\n",
              "      <td>classic_bike</td>\n",
              "      <td>2021-01-07 17:59:47</td>\n",
              "      <td>2021-01-07 19:34:03</td>\n",
              "      <td>Lakefront Trail &amp; Bryn Mawr Ave</td>\n",
              "      <td>KA1504000152</td>\n",
              "      <td>Lakefront Trail &amp; Bryn Mawr Ave</td>\n",
              "      <td>KA1504000152</td>\n",
              "      <td>41.984037</td>\n",
              "      <td>-87.652310</td>\n",
              "      <td>41.984037</td>\n",
              "      <td>-87.652310</td>\n",
              "      <td>member</td>\n",
              "    </tr>\n",
              "    <tr>\n",
              "      <th>96832</th>\n",
              "      <td>6DB04151565CEE63</td>\n",
              "      <td>classic_bike</td>\n",
              "      <td>2021-01-06 19:20:31</td>\n",
              "      <td>2021-01-06 20:41:57</td>\n",
              "      <td>Lakefront Trail &amp; Bryn Mawr Ave</td>\n",
              "      <td>KA1504000152</td>\n",
              "      <td>Lakefront Trail &amp; Bryn Mawr Ave</td>\n",
              "      <td>KA1504000152</td>\n",
              "      <td>41.984037</td>\n",
              "      <td>-87.652310</td>\n",
              "      <td>41.984037</td>\n",
              "      <td>-87.652310</td>\n",
              "      <td>member</td>\n",
              "    </tr>\n",
              "    <tr>\n",
              "      <th>96833</th>\n",
              "      <td>8008C9C998083A1A</td>\n",
              "      <td>docked_bike</td>\n",
              "      <td>2021-01-17 13:20:02</td>\n",
              "      <td>2021-01-17 14:17:00</td>\n",
              "      <td>Lake Shore Dr &amp; Monroe St</td>\n",
              "      <td>13300</td>\n",
              "      <td>Lake Shore Dr &amp; Monroe St</td>\n",
              "      <td>13300</td>\n",
              "      <td>41.880958</td>\n",
              "      <td>-87.616743</td>\n",
              "      <td>41.880958</td>\n",
              "      <td>-87.616743</td>\n",
              "      <td>casual</td>\n",
              "    </tr>\n",
              "  </tbody>\n",
              "</table>\n",
              "<p>96834 rows × 13 columns</p>\n",
              "</div>\n",
              "      <button class=\"colab-df-convert\" onclick=\"convertToInteractive('df-226717a8-0847-47ef-9d84-52c686ed90ef')\"\n",
              "              title=\"Convert this dataframe to an interactive table.\"\n",
              "              style=\"display:none;\">\n",
              "        \n",
              "  <svg xmlns=\"http://www.w3.org/2000/svg\" height=\"24px\"viewBox=\"0 0 24 24\"\n",
              "       width=\"24px\">\n",
              "    <path d=\"M0 0h24v24H0V0z\" fill=\"none\"/>\n",
              "    <path d=\"M18.56 5.44l.94 2.06.94-2.06 2.06-.94-2.06-.94-.94-2.06-.94 2.06-2.06.94zm-11 1L8.5 8.5l.94-2.06 2.06-.94-2.06-.94L8.5 2.5l-.94 2.06-2.06.94zm10 10l.94 2.06.94-2.06 2.06-.94-2.06-.94-.94-2.06-.94 2.06-2.06.94z\"/><path d=\"M17.41 7.96l-1.37-1.37c-.4-.4-.92-.59-1.43-.59-.52 0-1.04.2-1.43.59L10.3 9.45l-7.72 7.72c-.78.78-.78 2.05 0 2.83L4 21.41c.39.39.9.59 1.41.59.51 0 1.02-.2 1.41-.59l7.78-7.78 2.81-2.81c.8-.78.8-2.07 0-2.86zM5.41 20L4 18.59l7.72-7.72 1.47 1.35L5.41 20z\"/>\n",
              "  </svg>\n",
              "      </button>\n",
              "      \n",
              "  <style>\n",
              "    .colab-df-container {\n",
              "      display:flex;\n",
              "      flex-wrap:wrap;\n",
              "      gap: 12px;\n",
              "    }\n",
              "\n",
              "    .colab-df-convert {\n",
              "      background-color: #E8F0FE;\n",
              "      border: none;\n",
              "      border-radius: 50%;\n",
              "      cursor: pointer;\n",
              "      display: none;\n",
              "      fill: #1967D2;\n",
              "      height: 32px;\n",
              "      padding: 0 0 0 0;\n",
              "      width: 32px;\n",
              "    }\n",
              "\n",
              "    .colab-df-convert:hover {\n",
              "      background-color: #E2EBFA;\n",
              "      box-shadow: 0px 1px 2px rgba(60, 64, 67, 0.3), 0px 1px 3px 1px rgba(60, 64, 67, 0.15);\n",
              "      fill: #174EA6;\n",
              "    }\n",
              "\n",
              "    [theme=dark] .colab-df-convert {\n",
              "      background-color: #3B4455;\n",
              "      fill: #D2E3FC;\n",
              "    }\n",
              "\n",
              "    [theme=dark] .colab-df-convert:hover {\n",
              "      background-color: #434B5C;\n",
              "      box-shadow: 0px 1px 3px 1px rgba(0, 0, 0, 0.15);\n",
              "      filter: drop-shadow(0px 1px 2px rgba(0, 0, 0, 0.3));\n",
              "      fill: #FFFFFF;\n",
              "    }\n",
              "  </style>\n",
              "\n",
              "      <script>\n",
              "        const buttonEl =\n",
              "          document.querySelector('#df-226717a8-0847-47ef-9d84-52c686ed90ef button.colab-df-convert');\n",
              "        buttonEl.style.display =\n",
              "          google.colab.kernel.accessAllowed ? 'block' : 'none';\n",
              "\n",
              "        async function convertToInteractive(key) {\n",
              "          const element = document.querySelector('#df-226717a8-0847-47ef-9d84-52c686ed90ef');\n",
              "          const dataTable =\n",
              "            await google.colab.kernel.invokeFunction('convertToInteractive',\n",
              "                                                     [key], {});\n",
              "          if (!dataTable) return;\n",
              "\n",
              "          const docLinkHtml = 'Like what you see? Visit the ' +\n",
              "            '<a target=\"_blank\" href=https://colab.research.google.com/notebooks/data_table.ipynb>data table notebook</a>'\n",
              "            + ' to learn more about interactive tables.';\n",
              "          element.innerHTML = '';\n",
              "          dataTable['output_type'] = 'display_data';\n",
              "          await google.colab.output.renderOutput(dataTable, element);\n",
              "          const docLink = document.createElement('div');\n",
              "          docLink.innerHTML = docLinkHtml;\n",
              "          element.appendChild(docLink);\n",
              "        }\n",
              "      </script>\n",
              "    </div>\n",
              "  </div>\n",
              "  "
            ],
            "text/plain": [
              "                ride_id  rideable_type  ...    end_lng member_casual\n",
              "0      E19E6F1B8D4C42ED  electric_bike  ... -87.720000        member\n",
              "1      DC88F20C2C55F27F  electric_bike  ... -87.690000        member\n",
              "2      EC45C94683FE3F27  electric_bike  ... -87.700000        member\n",
              "3      4FA453A75AE377DB  electric_bike  ... -87.690000        member\n",
              "4      BE5E8EB4E7263A0B  electric_bike  ... -87.700000        casual\n",
              "...                 ...            ...  ...        ...           ...\n",
              "96829  B1A5336E1412D8BF   classic_bike  ... -87.652310        member\n",
              "96830  57EA5CB7DCD75F90   classic_bike  ... -87.652310        member\n",
              "96831  815B319A078CC984   classic_bike  ... -87.652310        member\n",
              "96832  6DB04151565CEE63   classic_bike  ... -87.652310        member\n",
              "96833  8008C9C998083A1A    docked_bike  ... -87.616743        casual\n",
              "\n",
              "[96834 rows x 13 columns]"
            ]
          },
          "metadata": {},
          "execution_count": 6
        }
      ]
    },
    {
      "cell_type": "code",
      "source": [
        "test[\"time_per_ride\"] = (test[\"ended_at\"] - test[\"started_at\"])\n",
        "test"
      ],
      "metadata": {
        "colab": {
          "base_uri": "https://localhost:8080/",
          "height": 641
        },
        "id": "GslbKgZSlSSK",
        "outputId": "83b3395d-a26d-47a2-93a5-7680bcbb5fae"
      },
      "execution_count": 7,
      "outputs": [
        {
          "output_type": "execute_result",
          "data": {
            "text/html": [
              "\n",
              "  <div id=\"df-70de16a8-2a18-4041-9937-c5a3e92db895\">\n",
              "    <div class=\"colab-df-container\">\n",
              "      <div>\n",
              "<style scoped>\n",
              "    .dataframe tbody tr th:only-of-type {\n",
              "        vertical-align: middle;\n",
              "    }\n",
              "\n",
              "    .dataframe tbody tr th {\n",
              "        vertical-align: top;\n",
              "    }\n",
              "\n",
              "    .dataframe thead th {\n",
              "        text-align: right;\n",
              "    }\n",
              "</style>\n",
              "<table border=\"1\" class=\"dataframe\">\n",
              "  <thead>\n",
              "    <tr style=\"text-align: right;\">\n",
              "      <th></th>\n",
              "      <th>ride_id</th>\n",
              "      <th>rideable_type</th>\n",
              "      <th>started_at</th>\n",
              "      <th>ended_at</th>\n",
              "      <th>start_station_name</th>\n",
              "      <th>start_station_id</th>\n",
              "      <th>end_station_name</th>\n",
              "      <th>end_station_id</th>\n",
              "      <th>start_lat</th>\n",
              "      <th>start_lng</th>\n",
              "      <th>end_lat</th>\n",
              "      <th>end_lng</th>\n",
              "      <th>member_casual</th>\n",
              "      <th>time_per_ride</th>\n",
              "    </tr>\n",
              "  </thead>\n",
              "  <tbody>\n",
              "    <tr>\n",
              "      <th>0</th>\n",
              "      <td>E19E6F1B8D4C42ED</td>\n",
              "      <td>electric_bike</td>\n",
              "      <td>2021-01-23 16:14:19</td>\n",
              "      <td>2021-01-23 16:24:44</td>\n",
              "      <td>California Ave &amp; Cortez St</td>\n",
              "      <td>17660</td>\n",
              "      <td>NaN</td>\n",
              "      <td>NaN</td>\n",
              "      <td>41.900341</td>\n",
              "      <td>-87.696743</td>\n",
              "      <td>41.890000</td>\n",
              "      <td>-87.720000</td>\n",
              "      <td>member</td>\n",
              "      <td>0 days 00:10:25</td>\n",
              "    </tr>\n",
              "    <tr>\n",
              "      <th>1</th>\n",
              "      <td>DC88F20C2C55F27F</td>\n",
              "      <td>electric_bike</td>\n",
              "      <td>2021-01-27 18:43:08</td>\n",
              "      <td>2021-01-27 18:47:12</td>\n",
              "      <td>California Ave &amp; Cortez St</td>\n",
              "      <td>17660</td>\n",
              "      <td>NaN</td>\n",
              "      <td>NaN</td>\n",
              "      <td>41.900333</td>\n",
              "      <td>-87.696707</td>\n",
              "      <td>41.900000</td>\n",
              "      <td>-87.690000</td>\n",
              "      <td>member</td>\n",
              "      <td>0 days 00:04:04</td>\n",
              "    </tr>\n",
              "    <tr>\n",
              "      <th>2</th>\n",
              "      <td>EC45C94683FE3F27</td>\n",
              "      <td>electric_bike</td>\n",
              "      <td>2021-01-21 22:35:54</td>\n",
              "      <td>2021-01-21 22:37:14</td>\n",
              "      <td>California Ave &amp; Cortez St</td>\n",
              "      <td>17660</td>\n",
              "      <td>NaN</td>\n",
              "      <td>NaN</td>\n",
              "      <td>41.900313</td>\n",
              "      <td>-87.696643</td>\n",
              "      <td>41.900000</td>\n",
              "      <td>-87.700000</td>\n",
              "      <td>member</td>\n",
              "      <td>0 days 00:01:20</td>\n",
              "    </tr>\n",
              "    <tr>\n",
              "      <th>3</th>\n",
              "      <td>4FA453A75AE377DB</td>\n",
              "      <td>electric_bike</td>\n",
              "      <td>2021-01-07 13:31:13</td>\n",
              "      <td>2021-01-07 13:42:55</td>\n",
              "      <td>California Ave &amp; Cortez St</td>\n",
              "      <td>17660</td>\n",
              "      <td>NaN</td>\n",
              "      <td>NaN</td>\n",
              "      <td>41.900399</td>\n",
              "      <td>-87.696662</td>\n",
              "      <td>41.920000</td>\n",
              "      <td>-87.690000</td>\n",
              "      <td>member</td>\n",
              "      <td>0 days 00:11:42</td>\n",
              "    </tr>\n",
              "    <tr>\n",
              "      <th>4</th>\n",
              "      <td>BE5E8EB4E7263A0B</td>\n",
              "      <td>electric_bike</td>\n",
              "      <td>2021-01-23 02:24:02</td>\n",
              "      <td>2021-01-23 02:24:45</td>\n",
              "      <td>California Ave &amp; Cortez St</td>\n",
              "      <td>17660</td>\n",
              "      <td>NaN</td>\n",
              "      <td>NaN</td>\n",
              "      <td>41.900326</td>\n",
              "      <td>-87.696697</td>\n",
              "      <td>41.900000</td>\n",
              "      <td>-87.700000</td>\n",
              "      <td>casual</td>\n",
              "      <td>0 days 00:00:43</td>\n",
              "    </tr>\n",
              "    <tr>\n",
              "      <th>...</th>\n",
              "      <td>...</td>\n",
              "      <td>...</td>\n",
              "      <td>...</td>\n",
              "      <td>...</td>\n",
              "      <td>...</td>\n",
              "      <td>...</td>\n",
              "      <td>...</td>\n",
              "      <td>...</td>\n",
              "      <td>...</td>\n",
              "      <td>...</td>\n",
              "      <td>...</td>\n",
              "      <td>...</td>\n",
              "      <td>...</td>\n",
              "      <td>...</td>\n",
              "    </tr>\n",
              "    <tr>\n",
              "      <th>96829</th>\n",
              "      <td>B1A5336E1412D8BF</td>\n",
              "      <td>classic_bike</td>\n",
              "      <td>2021-01-19 19:03:17</td>\n",
              "      <td>2021-01-19 20:10:03</td>\n",
              "      <td>Lake Shore Dr &amp; Monroe St</td>\n",
              "      <td>13300</td>\n",
              "      <td>Lakefront Trail &amp; Bryn Mawr Ave</td>\n",
              "      <td>KA1504000152</td>\n",
              "      <td>41.880958</td>\n",
              "      <td>-87.616743</td>\n",
              "      <td>41.984037</td>\n",
              "      <td>-87.652310</td>\n",
              "      <td>member</td>\n",
              "      <td>0 days 01:06:46</td>\n",
              "    </tr>\n",
              "    <tr>\n",
              "      <th>96830</th>\n",
              "      <td>57EA5CB7DCD75F90</td>\n",
              "      <td>classic_bike</td>\n",
              "      <td>2021-01-05 18:42:27</td>\n",
              "      <td>2021-01-05 19:33:33</td>\n",
              "      <td>Lake Shore Dr &amp; Monroe St</td>\n",
              "      <td>13300</td>\n",
              "      <td>Lakefront Trail &amp; Bryn Mawr Ave</td>\n",
              "      <td>KA1504000152</td>\n",
              "      <td>41.880958</td>\n",
              "      <td>-87.616743</td>\n",
              "      <td>41.984037</td>\n",
              "      <td>-87.652310</td>\n",
              "      <td>member</td>\n",
              "      <td>0 days 00:51:06</td>\n",
              "    </tr>\n",
              "    <tr>\n",
              "      <th>96831</th>\n",
              "      <td>815B319A078CC984</td>\n",
              "      <td>classic_bike</td>\n",
              "      <td>2021-01-07 17:59:47</td>\n",
              "      <td>2021-01-07 19:34:03</td>\n",
              "      <td>Lakefront Trail &amp; Bryn Mawr Ave</td>\n",
              "      <td>KA1504000152</td>\n",
              "      <td>Lakefront Trail &amp; Bryn Mawr Ave</td>\n",
              "      <td>KA1504000152</td>\n",
              "      <td>41.984037</td>\n",
              "      <td>-87.652310</td>\n",
              "      <td>41.984037</td>\n",
              "      <td>-87.652310</td>\n",
              "      <td>member</td>\n",
              "      <td>0 days 01:34:16</td>\n",
              "    </tr>\n",
              "    <tr>\n",
              "      <th>96832</th>\n",
              "      <td>6DB04151565CEE63</td>\n",
              "      <td>classic_bike</td>\n",
              "      <td>2021-01-06 19:20:31</td>\n",
              "      <td>2021-01-06 20:41:57</td>\n",
              "      <td>Lakefront Trail &amp; Bryn Mawr Ave</td>\n",
              "      <td>KA1504000152</td>\n",
              "      <td>Lakefront Trail &amp; Bryn Mawr Ave</td>\n",
              "      <td>KA1504000152</td>\n",
              "      <td>41.984037</td>\n",
              "      <td>-87.652310</td>\n",
              "      <td>41.984037</td>\n",
              "      <td>-87.652310</td>\n",
              "      <td>member</td>\n",
              "      <td>0 days 01:21:26</td>\n",
              "    </tr>\n",
              "    <tr>\n",
              "      <th>96833</th>\n",
              "      <td>8008C9C998083A1A</td>\n",
              "      <td>docked_bike</td>\n",
              "      <td>2021-01-17 13:20:02</td>\n",
              "      <td>2021-01-17 14:17:00</td>\n",
              "      <td>Lake Shore Dr &amp; Monroe St</td>\n",
              "      <td>13300</td>\n",
              "      <td>Lake Shore Dr &amp; Monroe St</td>\n",
              "      <td>13300</td>\n",
              "      <td>41.880958</td>\n",
              "      <td>-87.616743</td>\n",
              "      <td>41.880958</td>\n",
              "      <td>-87.616743</td>\n",
              "      <td>casual</td>\n",
              "      <td>0 days 00:56:58</td>\n",
              "    </tr>\n",
              "  </tbody>\n",
              "</table>\n",
              "<p>96834 rows × 14 columns</p>\n",
              "</div>\n",
              "      <button class=\"colab-df-convert\" onclick=\"convertToInteractive('df-70de16a8-2a18-4041-9937-c5a3e92db895')\"\n",
              "              title=\"Convert this dataframe to an interactive table.\"\n",
              "              style=\"display:none;\">\n",
              "        \n",
              "  <svg xmlns=\"http://www.w3.org/2000/svg\" height=\"24px\"viewBox=\"0 0 24 24\"\n",
              "       width=\"24px\">\n",
              "    <path d=\"M0 0h24v24H0V0z\" fill=\"none\"/>\n",
              "    <path d=\"M18.56 5.44l.94 2.06.94-2.06 2.06-.94-2.06-.94-.94-2.06-.94 2.06-2.06.94zm-11 1L8.5 8.5l.94-2.06 2.06-.94-2.06-.94L8.5 2.5l-.94 2.06-2.06.94zm10 10l.94 2.06.94-2.06 2.06-.94-2.06-.94-.94-2.06-.94 2.06-2.06.94z\"/><path d=\"M17.41 7.96l-1.37-1.37c-.4-.4-.92-.59-1.43-.59-.52 0-1.04.2-1.43.59L10.3 9.45l-7.72 7.72c-.78.78-.78 2.05 0 2.83L4 21.41c.39.39.9.59 1.41.59.51 0 1.02-.2 1.41-.59l7.78-7.78 2.81-2.81c.8-.78.8-2.07 0-2.86zM5.41 20L4 18.59l7.72-7.72 1.47 1.35L5.41 20z\"/>\n",
              "  </svg>\n",
              "      </button>\n",
              "      \n",
              "  <style>\n",
              "    .colab-df-container {\n",
              "      display:flex;\n",
              "      flex-wrap:wrap;\n",
              "      gap: 12px;\n",
              "    }\n",
              "\n",
              "    .colab-df-convert {\n",
              "      background-color: #E8F0FE;\n",
              "      border: none;\n",
              "      border-radius: 50%;\n",
              "      cursor: pointer;\n",
              "      display: none;\n",
              "      fill: #1967D2;\n",
              "      height: 32px;\n",
              "      padding: 0 0 0 0;\n",
              "      width: 32px;\n",
              "    }\n",
              "\n",
              "    .colab-df-convert:hover {\n",
              "      background-color: #E2EBFA;\n",
              "      box-shadow: 0px 1px 2px rgba(60, 64, 67, 0.3), 0px 1px 3px 1px rgba(60, 64, 67, 0.15);\n",
              "      fill: #174EA6;\n",
              "    }\n",
              "\n",
              "    [theme=dark] .colab-df-convert {\n",
              "      background-color: #3B4455;\n",
              "      fill: #D2E3FC;\n",
              "    }\n",
              "\n",
              "    [theme=dark] .colab-df-convert:hover {\n",
              "      background-color: #434B5C;\n",
              "      box-shadow: 0px 1px 3px 1px rgba(0, 0, 0, 0.15);\n",
              "      filter: drop-shadow(0px 1px 2px rgba(0, 0, 0, 0.3));\n",
              "      fill: #FFFFFF;\n",
              "    }\n",
              "  </style>\n",
              "\n",
              "      <script>\n",
              "        const buttonEl =\n",
              "          document.querySelector('#df-70de16a8-2a18-4041-9937-c5a3e92db895 button.colab-df-convert');\n",
              "        buttonEl.style.display =\n",
              "          google.colab.kernel.accessAllowed ? 'block' : 'none';\n",
              "\n",
              "        async function convertToInteractive(key) {\n",
              "          const element = document.querySelector('#df-70de16a8-2a18-4041-9937-c5a3e92db895');\n",
              "          const dataTable =\n",
              "            await google.colab.kernel.invokeFunction('convertToInteractive',\n",
              "                                                     [key], {});\n",
              "          if (!dataTable) return;\n",
              "\n",
              "          const docLinkHtml = 'Like what you see? Visit the ' +\n",
              "            '<a target=\"_blank\" href=https://colab.research.google.com/notebooks/data_table.ipynb>data table notebook</a>'\n",
              "            + ' to learn more about interactive tables.';\n",
              "          element.innerHTML = '';\n",
              "          dataTable['output_type'] = 'display_data';\n",
              "          await google.colab.output.renderOutput(dataTable, element);\n",
              "          const docLink = document.createElement('div');\n",
              "          docLink.innerHTML = docLinkHtml;\n",
              "          element.appendChild(docLink);\n",
              "        }\n",
              "      </script>\n",
              "    </div>\n",
              "  </div>\n",
              "  "
            ],
            "text/plain": [
              "                ride_id  rideable_type  ... member_casual   time_per_ride\n",
              "0      E19E6F1B8D4C42ED  electric_bike  ...        member 0 days 00:10:25\n",
              "1      DC88F20C2C55F27F  electric_bike  ...        member 0 days 00:04:04\n",
              "2      EC45C94683FE3F27  electric_bike  ...        member 0 days 00:01:20\n",
              "3      4FA453A75AE377DB  electric_bike  ...        member 0 days 00:11:42\n",
              "4      BE5E8EB4E7263A0B  electric_bike  ...        casual 0 days 00:00:43\n",
              "...                 ...            ...  ...           ...             ...\n",
              "96829  B1A5336E1412D8BF   classic_bike  ...        member 0 days 01:06:46\n",
              "96830  57EA5CB7DCD75F90   classic_bike  ...        member 0 days 00:51:06\n",
              "96831  815B319A078CC984   classic_bike  ...        member 0 days 01:34:16\n",
              "96832  6DB04151565CEE63   classic_bike  ...        member 0 days 01:21:26\n",
              "96833  8008C9C998083A1A    docked_bike  ...        casual 0 days 00:56:58\n",
              "\n",
              "[96834 rows x 14 columns]"
            ]
          },
          "metadata": {},
          "execution_count": 7
        }
      ]
    },
    {
      "cell_type": "markdown",
      "source": [
        "Now lets find the distance per start and end stations"
      ],
      "metadata": {
        "id": "UaBp3crjvnWL"
      }
    },
    {
      "cell_type": "code",
      "source": [
        "#removing null values\n",
        "test.isnull().sum()"
      ],
      "metadata": {
        "colab": {
          "base_uri": "https://localhost:8080/"
        },
        "id": "KOwnn8EqvrKg",
        "outputId": "373ecb7f-715b-41b2-dae6-5bf319332c65"
      },
      "execution_count": 8,
      "outputs": [
        {
          "output_type": "execute_result",
          "data": {
            "text/plain": [
              "ride_id                   0\n",
              "rideable_type             0\n",
              "started_at                0\n",
              "ended_at                  0\n",
              "start_station_name     8625\n",
              "start_station_id       8625\n",
              "end_station_name      10277\n",
              "end_station_id        10277\n",
              "start_lat                 0\n",
              "start_lng                 0\n",
              "end_lat                 103\n",
              "end_lng                 103\n",
              "member_casual             0\n",
              "time_per_ride             0\n",
              "dtype: int64"
            ]
          },
          "metadata": {},
          "execution_count": 8
        }
      ]
    },
    {
      "cell_type": "code",
      "source": [
        "test = test.dropna(subset=['end_lat', 'end_lng'])\n",
        "test.isnull().sum()"
      ],
      "metadata": {
        "colab": {
          "base_uri": "https://localhost:8080/"
        },
        "id": "ZA3plY7zv0aS",
        "outputId": "e7b5e743-1845-413c-d403-ffd6e60a2f98"
      },
      "execution_count": 9,
      "outputs": [
        {
          "output_type": "execute_result",
          "data": {
            "text/plain": [
              "ride_id                   0\n",
              "rideable_type             0\n",
              "started_at                0\n",
              "ended_at                  0\n",
              "start_station_name     8625\n",
              "start_station_id       8625\n",
              "end_station_name      10174\n",
              "end_station_id        10174\n",
              "start_lat                 0\n",
              "start_lng                 0\n",
              "end_lat                   0\n",
              "end_lng                   0\n",
              "member_casual             0\n",
              "time_per_ride             0\n",
              "dtype: int64"
            ]
          },
          "metadata": {},
          "execution_count": 9
        }
      ]
    },
    {
      "cell_type": "code",
      "source": [
        "#For distance\n",
        "from geopy import distance\n",
        "\n",
        "test[\"distance\"] = test.apply(lambda x: distance.distance((x[8], x[9]), (x[10], x[11])).m, axis=1)\n",
        "test[\"distance\"] = round(test.distance,2)\n",
        "test.head()"
      ],
      "metadata": {
        "colab": {
          "base_uri": "https://localhost:8080/",
          "height": 458
        },
        "id": "AWIdftC6voLg",
        "outputId": "d00ab73c-5e37-47a3-c277-4cd015d2ef13"
      },
      "execution_count": 10,
      "outputs": [
        {
          "output_type": "stream",
          "name": "stderr",
          "text": [
            "/usr/local/lib/python3.7/dist-packages/ipykernel_launcher.py:4: SettingWithCopyWarning: \n",
            "A value is trying to be set on a copy of a slice from a DataFrame.\n",
            "Try using .loc[row_indexer,col_indexer] = value instead\n",
            "\n",
            "See the caveats in the documentation: https://pandas.pydata.org/pandas-docs/stable/user_guide/indexing.html#returning-a-view-versus-a-copy\n",
            "  after removing the cwd from sys.path.\n",
            "/usr/local/lib/python3.7/dist-packages/ipykernel_launcher.py:5: SettingWithCopyWarning: \n",
            "A value is trying to be set on a copy of a slice from a DataFrame.\n",
            "Try using .loc[row_indexer,col_indexer] = value instead\n",
            "\n",
            "See the caveats in the documentation: https://pandas.pydata.org/pandas-docs/stable/user_guide/indexing.html#returning-a-view-versus-a-copy\n",
            "  \"\"\"\n"
          ]
        },
        {
          "output_type": "execute_result",
          "data": {
            "text/html": [
              "\n",
              "  <div id=\"df-cef5928e-fce1-4041-ae3a-c44df45f67be\">\n",
              "    <div class=\"colab-df-container\">\n",
              "      <div>\n",
              "<style scoped>\n",
              "    .dataframe tbody tr th:only-of-type {\n",
              "        vertical-align: middle;\n",
              "    }\n",
              "\n",
              "    .dataframe tbody tr th {\n",
              "        vertical-align: top;\n",
              "    }\n",
              "\n",
              "    .dataframe thead th {\n",
              "        text-align: right;\n",
              "    }\n",
              "</style>\n",
              "<table border=\"1\" class=\"dataframe\">\n",
              "  <thead>\n",
              "    <tr style=\"text-align: right;\">\n",
              "      <th></th>\n",
              "      <th>ride_id</th>\n",
              "      <th>rideable_type</th>\n",
              "      <th>started_at</th>\n",
              "      <th>ended_at</th>\n",
              "      <th>start_station_name</th>\n",
              "      <th>start_station_id</th>\n",
              "      <th>end_station_name</th>\n",
              "      <th>end_station_id</th>\n",
              "      <th>start_lat</th>\n",
              "      <th>start_lng</th>\n",
              "      <th>end_lat</th>\n",
              "      <th>end_lng</th>\n",
              "      <th>member_casual</th>\n",
              "      <th>time_per_ride</th>\n",
              "      <th>distance</th>\n",
              "    </tr>\n",
              "  </thead>\n",
              "  <tbody>\n",
              "    <tr>\n",
              "      <th>0</th>\n",
              "      <td>E19E6F1B8D4C42ED</td>\n",
              "      <td>electric_bike</td>\n",
              "      <td>2021-01-23 16:14:19</td>\n",
              "      <td>2021-01-23 16:24:44</td>\n",
              "      <td>California Ave &amp; Cortez St</td>\n",
              "      <td>17660</td>\n",
              "      <td>NaN</td>\n",
              "      <td>NaN</td>\n",
              "      <td>41.900341</td>\n",
              "      <td>-87.696743</td>\n",
              "      <td>41.89</td>\n",
              "      <td>-87.72</td>\n",
              "      <td>member</td>\n",
              "      <td>0 days 00:10:25</td>\n",
              "      <td>2245.92</td>\n",
              "    </tr>\n",
              "    <tr>\n",
              "      <th>1</th>\n",
              "      <td>DC88F20C2C55F27F</td>\n",
              "      <td>electric_bike</td>\n",
              "      <td>2021-01-27 18:43:08</td>\n",
              "      <td>2021-01-27 18:47:12</td>\n",
              "      <td>California Ave &amp; Cortez St</td>\n",
              "      <td>17660</td>\n",
              "      <td>NaN</td>\n",
              "      <td>NaN</td>\n",
              "      <td>41.900333</td>\n",
              "      <td>-87.696707</td>\n",
              "      <td>41.90</td>\n",
              "      <td>-87.69</td>\n",
              "      <td>member</td>\n",
              "      <td>0 days 00:04:04</td>\n",
              "      <td>557.77</td>\n",
              "    </tr>\n",
              "    <tr>\n",
              "      <th>2</th>\n",
              "      <td>EC45C94683FE3F27</td>\n",
              "      <td>electric_bike</td>\n",
              "      <td>2021-01-21 22:35:54</td>\n",
              "      <td>2021-01-21 22:37:14</td>\n",
              "      <td>California Ave &amp; Cortez St</td>\n",
              "      <td>17660</td>\n",
              "      <td>NaN</td>\n",
              "      <td>NaN</td>\n",
              "      <td>41.900313</td>\n",
              "      <td>-87.696643</td>\n",
              "      <td>41.90</td>\n",
              "      <td>-87.70</td>\n",
              "      <td>member</td>\n",
              "      <td>0 days 00:01:20</td>\n",
              "      <td>280.75</td>\n",
              "    </tr>\n",
              "    <tr>\n",
              "      <th>3</th>\n",
              "      <td>4FA453A75AE377DB</td>\n",
              "      <td>electric_bike</td>\n",
              "      <td>2021-01-07 13:31:13</td>\n",
              "      <td>2021-01-07 13:42:55</td>\n",
              "      <td>California Ave &amp; Cortez St</td>\n",
              "      <td>17660</td>\n",
              "      <td>NaN</td>\n",
              "      <td>NaN</td>\n",
              "      <td>41.900399</td>\n",
              "      <td>-87.696662</td>\n",
              "      <td>41.92</td>\n",
              "      <td>-87.69</td>\n",
              "      <td>member</td>\n",
              "      <td>0 days 00:11:42</td>\n",
              "      <td>2246.22</td>\n",
              "    </tr>\n",
              "    <tr>\n",
              "      <th>4</th>\n",
              "      <td>BE5E8EB4E7263A0B</td>\n",
              "      <td>electric_bike</td>\n",
              "      <td>2021-01-23 02:24:02</td>\n",
              "      <td>2021-01-23 02:24:45</td>\n",
              "      <td>California Ave &amp; Cortez St</td>\n",
              "      <td>17660</td>\n",
              "      <td>NaN</td>\n",
              "      <td>NaN</td>\n",
              "      <td>41.900326</td>\n",
              "      <td>-87.696697</td>\n",
              "      <td>41.90</td>\n",
              "      <td>-87.70</td>\n",
              "      <td>casual</td>\n",
              "      <td>0 days 00:00:43</td>\n",
              "      <td>276.46</td>\n",
              "    </tr>\n",
              "  </tbody>\n",
              "</table>\n",
              "</div>\n",
              "      <button class=\"colab-df-convert\" onclick=\"convertToInteractive('df-cef5928e-fce1-4041-ae3a-c44df45f67be')\"\n",
              "              title=\"Convert this dataframe to an interactive table.\"\n",
              "              style=\"display:none;\">\n",
              "        \n",
              "  <svg xmlns=\"http://www.w3.org/2000/svg\" height=\"24px\"viewBox=\"0 0 24 24\"\n",
              "       width=\"24px\">\n",
              "    <path d=\"M0 0h24v24H0V0z\" fill=\"none\"/>\n",
              "    <path d=\"M18.56 5.44l.94 2.06.94-2.06 2.06-.94-2.06-.94-.94-2.06-.94 2.06-2.06.94zm-11 1L8.5 8.5l.94-2.06 2.06-.94-2.06-.94L8.5 2.5l-.94 2.06-2.06.94zm10 10l.94 2.06.94-2.06 2.06-.94-2.06-.94-.94-2.06-.94 2.06-2.06.94z\"/><path d=\"M17.41 7.96l-1.37-1.37c-.4-.4-.92-.59-1.43-.59-.52 0-1.04.2-1.43.59L10.3 9.45l-7.72 7.72c-.78.78-.78 2.05 0 2.83L4 21.41c.39.39.9.59 1.41.59.51 0 1.02-.2 1.41-.59l7.78-7.78 2.81-2.81c.8-.78.8-2.07 0-2.86zM5.41 20L4 18.59l7.72-7.72 1.47 1.35L5.41 20z\"/>\n",
              "  </svg>\n",
              "      </button>\n",
              "      \n",
              "  <style>\n",
              "    .colab-df-container {\n",
              "      display:flex;\n",
              "      flex-wrap:wrap;\n",
              "      gap: 12px;\n",
              "    }\n",
              "\n",
              "    .colab-df-convert {\n",
              "      background-color: #E8F0FE;\n",
              "      border: none;\n",
              "      border-radius: 50%;\n",
              "      cursor: pointer;\n",
              "      display: none;\n",
              "      fill: #1967D2;\n",
              "      height: 32px;\n",
              "      padding: 0 0 0 0;\n",
              "      width: 32px;\n",
              "    }\n",
              "\n",
              "    .colab-df-convert:hover {\n",
              "      background-color: #E2EBFA;\n",
              "      box-shadow: 0px 1px 2px rgba(60, 64, 67, 0.3), 0px 1px 3px 1px rgba(60, 64, 67, 0.15);\n",
              "      fill: #174EA6;\n",
              "    }\n",
              "\n",
              "    [theme=dark] .colab-df-convert {\n",
              "      background-color: #3B4455;\n",
              "      fill: #D2E3FC;\n",
              "    }\n",
              "\n",
              "    [theme=dark] .colab-df-convert:hover {\n",
              "      background-color: #434B5C;\n",
              "      box-shadow: 0px 1px 3px 1px rgba(0, 0, 0, 0.15);\n",
              "      filter: drop-shadow(0px 1px 2px rgba(0, 0, 0, 0.3));\n",
              "      fill: #FFFFFF;\n",
              "    }\n",
              "  </style>\n",
              "\n",
              "      <script>\n",
              "        const buttonEl =\n",
              "          document.querySelector('#df-cef5928e-fce1-4041-ae3a-c44df45f67be button.colab-df-convert');\n",
              "        buttonEl.style.display =\n",
              "          google.colab.kernel.accessAllowed ? 'block' : 'none';\n",
              "\n",
              "        async function convertToInteractive(key) {\n",
              "          const element = document.querySelector('#df-cef5928e-fce1-4041-ae3a-c44df45f67be');\n",
              "          const dataTable =\n",
              "            await google.colab.kernel.invokeFunction('convertToInteractive',\n",
              "                                                     [key], {});\n",
              "          if (!dataTable) return;\n",
              "\n",
              "          const docLinkHtml = 'Like what you see? Visit the ' +\n",
              "            '<a target=\"_blank\" href=https://colab.research.google.com/notebooks/data_table.ipynb>data table notebook</a>'\n",
              "            + ' to learn more about interactive tables.';\n",
              "          element.innerHTML = '';\n",
              "          dataTable['output_type'] = 'display_data';\n",
              "          await google.colab.output.renderOutput(dataTable, element);\n",
              "          const docLink = document.createElement('div');\n",
              "          docLink.innerHTML = docLinkHtml;\n",
              "          element.appendChild(docLink);\n",
              "        }\n",
              "      </script>\n",
              "    </div>\n",
              "  </div>\n",
              "  "
            ],
            "text/plain": [
              "            ride_id  rideable_type  ...   time_per_ride distance\n",
              "0  E19E6F1B8D4C42ED  electric_bike  ... 0 days 00:10:25  2245.92\n",
              "1  DC88F20C2C55F27F  electric_bike  ... 0 days 00:04:04   557.77\n",
              "2  EC45C94683FE3F27  electric_bike  ... 0 days 00:01:20   280.75\n",
              "3  4FA453A75AE377DB  electric_bike  ... 0 days 00:11:42  2246.22\n",
              "4  BE5E8EB4E7263A0B  electric_bike  ... 0 days 00:00:43   276.46\n",
              "\n",
              "[5 rows x 15 columns]"
            ]
          },
          "metadata": {},
          "execution_count": 10
        }
      ]
    },
    {
      "cell_type": "markdown",
      "source": [
        "## All 9 months data into one single Dataframe\n",
        "\n",
        "Will make the same pipeline I did above for al 9 files."
      ],
      "metadata": {
        "id": "bhTp8BpWw7QD"
      }
    },
    {
      "cell_type": "code",
      "metadata": {
        "colab": {
          "base_uri": "https://localhost:8080/"
        },
        "id": "WDh64hZYOKHT",
        "outputId": "68a2a837-44ed-452f-f112-efec0f0d0bac"
      },
      "source": [
        "%%time\n",
        "\n",
        "bikes = []\n",
        "for file in os.listdir():\n",
        "  if file.endswith('.csv'):\n",
        "    #Change name of column Id in work locations df, this to keep naming consitent\n",
        "    df = pd.read_csv(file)\n",
        "    df[\"started_at\"] = pd.to_datetime(df[\"started_at\"])\n",
        "    df[\"ended_at\"] = pd.to_datetime(df[\"ended_at\"])\n",
        "    df[\"time_per_ride\"] = (df[\"ended_at\"] - df[\"started_at\"])\n",
        "    df = df.dropna(subset=['end_lat', 'end_lng'])\n",
        "    df[\"distance\"] = df.apply(lambda x: distance.distance((x[8], x[9]), (x[10], x[11])).m, axis=1)\n",
        "    df[\"distance\"] = round(df.distance,2)\n",
        "\n",
        "    bikes.append(df)\n",
        "\n",
        "df = pd.concat(bikes, axis=0, ignore_index=True)\n",
        "df"
      ],
      "execution_count": 11,
      "outputs": [
        {
          "output_type": "stream",
          "name": "stdout",
          "text": [
            "CPU times: user 19min 52s, sys: 6.88 s, total: 19min 59s\n",
            "Wall time: 20min 16s\n"
          ]
        }
      ]
    },
    {
      "cell_type": "code",
      "source": [
        "df"
      ],
      "metadata": {
        "colab": {
          "base_uri": "https://localhost:8080/",
          "height": 641
        },
        "id": "yr-lHQ3S5G-J",
        "outputId": "3b736a3a-ba43-48e8-ce92-668d2f3be77b"
      },
      "execution_count": 12,
      "outputs": [
        {
          "output_type": "execute_result",
          "data": {
            "text/html": [
              "\n",
              "  <div id=\"df-5976b343-5647-4f1c-8bfd-0c8bcb962c2e\">\n",
              "    <div class=\"colab-df-container\">\n",
              "      <div>\n",
              "<style scoped>\n",
              "    .dataframe tbody tr th:only-of-type {\n",
              "        vertical-align: middle;\n",
              "    }\n",
              "\n",
              "    .dataframe tbody tr th {\n",
              "        vertical-align: top;\n",
              "    }\n",
              "\n",
              "    .dataframe thead th {\n",
              "        text-align: right;\n",
              "    }\n",
              "</style>\n",
              "<table border=\"1\" class=\"dataframe\">\n",
              "  <thead>\n",
              "    <tr style=\"text-align: right;\">\n",
              "      <th></th>\n",
              "      <th>ride_id</th>\n",
              "      <th>rideable_type</th>\n",
              "      <th>started_at</th>\n",
              "      <th>ended_at</th>\n",
              "      <th>start_station_name</th>\n",
              "      <th>start_station_id</th>\n",
              "      <th>end_station_name</th>\n",
              "      <th>end_station_id</th>\n",
              "      <th>start_lat</th>\n",
              "      <th>start_lng</th>\n",
              "      <th>end_lat</th>\n",
              "      <th>end_lng</th>\n",
              "      <th>member_casual</th>\n",
              "      <th>time_per_ride</th>\n",
              "      <th>distance</th>\n",
              "    </tr>\n",
              "  </thead>\n",
              "  <tbody>\n",
              "    <tr>\n",
              "      <th>0</th>\n",
              "      <td>E19E6F1B8D4C42ED</td>\n",
              "      <td>electric_bike</td>\n",
              "      <td>2021-01-23 16:14:19</td>\n",
              "      <td>2021-01-23 16:24:44</td>\n",
              "      <td>California Ave &amp; Cortez St</td>\n",
              "      <td>17660</td>\n",
              "      <td>NaN</td>\n",
              "      <td>NaN</td>\n",
              "      <td>41.900341</td>\n",
              "      <td>-87.696743</td>\n",
              "      <td>41.890000</td>\n",
              "      <td>-87.720000</td>\n",
              "      <td>member</td>\n",
              "      <td>0 days 00:10:25</td>\n",
              "      <td>2245.92</td>\n",
              "    </tr>\n",
              "    <tr>\n",
              "      <th>1</th>\n",
              "      <td>DC88F20C2C55F27F</td>\n",
              "      <td>electric_bike</td>\n",
              "      <td>2021-01-27 18:43:08</td>\n",
              "      <td>2021-01-27 18:47:12</td>\n",
              "      <td>California Ave &amp; Cortez St</td>\n",
              "      <td>17660</td>\n",
              "      <td>NaN</td>\n",
              "      <td>NaN</td>\n",
              "      <td>41.900333</td>\n",
              "      <td>-87.696707</td>\n",
              "      <td>41.900000</td>\n",
              "      <td>-87.690000</td>\n",
              "      <td>member</td>\n",
              "      <td>0 days 00:04:04</td>\n",
              "      <td>557.77</td>\n",
              "    </tr>\n",
              "    <tr>\n",
              "      <th>2</th>\n",
              "      <td>EC45C94683FE3F27</td>\n",
              "      <td>electric_bike</td>\n",
              "      <td>2021-01-21 22:35:54</td>\n",
              "      <td>2021-01-21 22:37:14</td>\n",
              "      <td>California Ave &amp; Cortez St</td>\n",
              "      <td>17660</td>\n",
              "      <td>NaN</td>\n",
              "      <td>NaN</td>\n",
              "      <td>41.900313</td>\n",
              "      <td>-87.696643</td>\n",
              "      <td>41.900000</td>\n",
              "      <td>-87.700000</td>\n",
              "      <td>member</td>\n",
              "      <td>0 days 00:01:20</td>\n",
              "      <td>280.75</td>\n",
              "    </tr>\n",
              "    <tr>\n",
              "      <th>3</th>\n",
              "      <td>4FA453A75AE377DB</td>\n",
              "      <td>electric_bike</td>\n",
              "      <td>2021-01-07 13:31:13</td>\n",
              "      <td>2021-01-07 13:42:55</td>\n",
              "      <td>California Ave &amp; Cortez St</td>\n",
              "      <td>17660</td>\n",
              "      <td>NaN</td>\n",
              "      <td>NaN</td>\n",
              "      <td>41.900399</td>\n",
              "      <td>-87.696662</td>\n",
              "      <td>41.920000</td>\n",
              "      <td>-87.690000</td>\n",
              "      <td>member</td>\n",
              "      <td>0 days 00:11:42</td>\n",
              "      <td>2246.22</td>\n",
              "    </tr>\n",
              "    <tr>\n",
              "      <th>4</th>\n",
              "      <td>BE5E8EB4E7263A0B</td>\n",
              "      <td>electric_bike</td>\n",
              "      <td>2021-01-23 02:24:02</td>\n",
              "      <td>2021-01-23 02:24:45</td>\n",
              "      <td>California Ave &amp; Cortez St</td>\n",
              "      <td>17660</td>\n",
              "      <td>NaN</td>\n",
              "      <td>NaN</td>\n",
              "      <td>41.900326</td>\n",
              "      <td>-87.696697</td>\n",
              "      <td>41.900000</td>\n",
              "      <td>-87.700000</td>\n",
              "      <td>casual</td>\n",
              "      <td>0 days 00:00:43</td>\n",
              "      <td>276.46</td>\n",
              "    </tr>\n",
              "    <tr>\n",
              "      <th>...</th>\n",
              "      <td>...</td>\n",
              "      <td>...</td>\n",
              "      <td>...</td>\n",
              "      <td>...</td>\n",
              "      <td>...</td>\n",
              "      <td>...</td>\n",
              "      <td>...</td>\n",
              "      <td>...</td>\n",
              "      <td>...</td>\n",
              "      <td>...</td>\n",
              "      <td>...</td>\n",
              "      <td>...</td>\n",
              "      <td>...</td>\n",
              "      <td>...</td>\n",
              "      <td>...</td>\n",
              "    </tr>\n",
              "    <tr>\n",
              "      <th>4352362</th>\n",
              "      <td>FA66BCAB0D73DDC2</td>\n",
              "      <td>classic_bike</td>\n",
              "      <td>2021-09-22 15:46:57</td>\n",
              "      <td>2021-09-22 16:01:15</td>\n",
              "      <td>Ellis Ave &amp; 83rd St</td>\n",
              "      <td>584</td>\n",
              "      <td>Stony Island Ave &amp; 75th St</td>\n",
              "      <td>KA1503000019</td>\n",
              "      <td>41.744123</td>\n",
              "      <td>-87.599034</td>\n",
              "      <td>41.758670</td>\n",
              "      <td>-87.586883</td>\n",
              "      <td>casual</td>\n",
              "      <td>0 days 00:14:18</td>\n",
              "      <td>1905.73</td>\n",
              "    </tr>\n",
              "    <tr>\n",
              "      <th>4352363</th>\n",
              "      <td>1D44DEFB5D36CA04</td>\n",
              "      <td>classic_bike</td>\n",
              "      <td>2021-09-25 16:25:23</td>\n",
              "      <td>2021-09-25 16:40:29</td>\n",
              "      <td>Ellis Ave &amp; 60th St</td>\n",
              "      <td>KA1503000014</td>\n",
              "      <td>Shore Dr &amp; 55th St</td>\n",
              "      <td>TA1308000009</td>\n",
              "      <td>41.785097</td>\n",
              "      <td>-87.601073</td>\n",
              "      <td>41.795212</td>\n",
              "      <td>-87.580715</td>\n",
              "      <td>casual</td>\n",
              "      <td>0 days 00:15:06</td>\n",
              "      <td>2031.16</td>\n",
              "    </tr>\n",
              "    <tr>\n",
              "      <th>4352364</th>\n",
              "      <td>6A346EA57FC23C45</td>\n",
              "      <td>classic_bike</td>\n",
              "      <td>2021-09-25 16:26:05</td>\n",
              "      <td>2021-09-25 16:40:30</td>\n",
              "      <td>Ellis Ave &amp; 60th St</td>\n",
              "      <td>KA1503000014</td>\n",
              "      <td>Shore Dr &amp; 55th St</td>\n",
              "      <td>TA1308000009</td>\n",
              "      <td>41.785097</td>\n",
              "      <td>-87.601073</td>\n",
              "      <td>41.795212</td>\n",
              "      <td>-87.580715</td>\n",
              "      <td>casual</td>\n",
              "      <td>0 days 00:14:25</td>\n",
              "      <td>2031.16</td>\n",
              "    </tr>\n",
              "    <tr>\n",
              "      <th>4352365</th>\n",
              "      <td>49360AFD771100A6</td>\n",
              "      <td>classic_bike</td>\n",
              "      <td>2021-09-15 17:57:48</td>\n",
              "      <td>2021-09-15 18:24:06</td>\n",
              "      <td>Ellis Ave &amp; 60th St</td>\n",
              "      <td>KA1503000014</td>\n",
              "      <td>Shore Dr &amp; 55th St</td>\n",
              "      <td>TA1308000009</td>\n",
              "      <td>41.785097</td>\n",
              "      <td>-87.601073</td>\n",
              "      <td>41.795212</td>\n",
              "      <td>-87.580715</td>\n",
              "      <td>casual</td>\n",
              "      <td>0 days 00:26:18</td>\n",
              "      <td>2031.16</td>\n",
              "    </tr>\n",
              "    <tr>\n",
              "      <th>4352366</th>\n",
              "      <td>343190A2DC023FED</td>\n",
              "      <td>electric_bike</td>\n",
              "      <td>2021-09-11 18:01:06</td>\n",
              "      <td>2021-09-11 18:08:26</td>\n",
              "      <td>Wells St &amp; Huron St</td>\n",
              "      <td>TA1306000012</td>\n",
              "      <td>Clinton St &amp; Lake St</td>\n",
              "      <td>13021</td>\n",
              "      <td>41.894887</td>\n",
              "      <td>-87.634343</td>\n",
              "      <td>41.885771</td>\n",
              "      <td>-87.641373</td>\n",
              "      <td>member</td>\n",
              "      <td>0 days 00:07:20</td>\n",
              "      <td>1168.57</td>\n",
              "    </tr>\n",
              "  </tbody>\n",
              "</table>\n",
              "<p>4352367 rows × 15 columns</p>\n",
              "</div>\n",
              "      <button class=\"colab-df-convert\" onclick=\"convertToInteractive('df-5976b343-5647-4f1c-8bfd-0c8bcb962c2e')\"\n",
              "              title=\"Convert this dataframe to an interactive table.\"\n",
              "              style=\"display:none;\">\n",
              "        \n",
              "  <svg xmlns=\"http://www.w3.org/2000/svg\" height=\"24px\"viewBox=\"0 0 24 24\"\n",
              "       width=\"24px\">\n",
              "    <path d=\"M0 0h24v24H0V0z\" fill=\"none\"/>\n",
              "    <path d=\"M18.56 5.44l.94 2.06.94-2.06 2.06-.94-2.06-.94-.94-2.06-.94 2.06-2.06.94zm-11 1L8.5 8.5l.94-2.06 2.06-.94-2.06-.94L8.5 2.5l-.94 2.06-2.06.94zm10 10l.94 2.06.94-2.06 2.06-.94-2.06-.94-.94-2.06-.94 2.06-2.06.94z\"/><path d=\"M17.41 7.96l-1.37-1.37c-.4-.4-.92-.59-1.43-.59-.52 0-1.04.2-1.43.59L10.3 9.45l-7.72 7.72c-.78.78-.78 2.05 0 2.83L4 21.41c.39.39.9.59 1.41.59.51 0 1.02-.2 1.41-.59l7.78-7.78 2.81-2.81c.8-.78.8-2.07 0-2.86zM5.41 20L4 18.59l7.72-7.72 1.47 1.35L5.41 20z\"/>\n",
              "  </svg>\n",
              "      </button>\n",
              "      \n",
              "  <style>\n",
              "    .colab-df-container {\n",
              "      display:flex;\n",
              "      flex-wrap:wrap;\n",
              "      gap: 12px;\n",
              "    }\n",
              "\n",
              "    .colab-df-convert {\n",
              "      background-color: #E8F0FE;\n",
              "      border: none;\n",
              "      border-radius: 50%;\n",
              "      cursor: pointer;\n",
              "      display: none;\n",
              "      fill: #1967D2;\n",
              "      height: 32px;\n",
              "      padding: 0 0 0 0;\n",
              "      width: 32px;\n",
              "    }\n",
              "\n",
              "    .colab-df-convert:hover {\n",
              "      background-color: #E2EBFA;\n",
              "      box-shadow: 0px 1px 2px rgba(60, 64, 67, 0.3), 0px 1px 3px 1px rgba(60, 64, 67, 0.15);\n",
              "      fill: #174EA6;\n",
              "    }\n",
              "\n",
              "    [theme=dark] .colab-df-convert {\n",
              "      background-color: #3B4455;\n",
              "      fill: #D2E3FC;\n",
              "    }\n",
              "\n",
              "    [theme=dark] .colab-df-convert:hover {\n",
              "      background-color: #434B5C;\n",
              "      box-shadow: 0px 1px 3px 1px rgba(0, 0, 0, 0.15);\n",
              "      filter: drop-shadow(0px 1px 2px rgba(0, 0, 0, 0.3));\n",
              "      fill: #FFFFFF;\n",
              "    }\n",
              "  </style>\n",
              "\n",
              "      <script>\n",
              "        const buttonEl =\n",
              "          document.querySelector('#df-5976b343-5647-4f1c-8bfd-0c8bcb962c2e button.colab-df-convert');\n",
              "        buttonEl.style.display =\n",
              "          google.colab.kernel.accessAllowed ? 'block' : 'none';\n",
              "\n",
              "        async function convertToInteractive(key) {\n",
              "          const element = document.querySelector('#df-5976b343-5647-4f1c-8bfd-0c8bcb962c2e');\n",
              "          const dataTable =\n",
              "            await google.colab.kernel.invokeFunction('convertToInteractive',\n",
              "                                                     [key], {});\n",
              "          if (!dataTable) return;\n",
              "\n",
              "          const docLinkHtml = 'Like what you see? Visit the ' +\n",
              "            '<a target=\"_blank\" href=https://colab.research.google.com/notebooks/data_table.ipynb>data table notebook</a>'\n",
              "            + ' to learn more about interactive tables.';\n",
              "          element.innerHTML = '';\n",
              "          dataTable['output_type'] = 'display_data';\n",
              "          await google.colab.output.renderOutput(dataTable, element);\n",
              "          const docLink = document.createElement('div');\n",
              "          docLink.innerHTML = docLinkHtml;\n",
              "          element.appendChild(docLink);\n",
              "        }\n",
              "      </script>\n",
              "    </div>\n",
              "  </div>\n",
              "  "
            ],
            "text/plain": [
              "                  ride_id  rideable_type  ...   time_per_ride distance\n",
              "0        E19E6F1B8D4C42ED  electric_bike  ... 0 days 00:10:25  2245.92\n",
              "1        DC88F20C2C55F27F  electric_bike  ... 0 days 00:04:04   557.77\n",
              "2        EC45C94683FE3F27  electric_bike  ... 0 days 00:01:20   280.75\n",
              "3        4FA453A75AE377DB  electric_bike  ... 0 days 00:11:42  2246.22\n",
              "4        BE5E8EB4E7263A0B  electric_bike  ... 0 days 00:00:43   276.46\n",
              "...                   ...            ...  ...             ...      ...\n",
              "4352362  FA66BCAB0D73DDC2   classic_bike  ... 0 days 00:14:18  1905.73\n",
              "4352363  1D44DEFB5D36CA04   classic_bike  ... 0 days 00:15:06  2031.16\n",
              "4352364  6A346EA57FC23C45   classic_bike  ... 0 days 00:14:25  2031.16\n",
              "4352365  49360AFD771100A6   classic_bike  ... 0 days 00:26:18  2031.16\n",
              "4352366  343190A2DC023FED  electric_bike  ... 0 days 00:07:20  1168.57\n",
              "\n",
              "[4352367 rows x 15 columns]"
            ]
          },
          "metadata": {},
          "execution_count": 12
        }
      ]
    },
    {
      "cell_type": "code",
      "metadata": {
        "id": "R4tD3EV2P7L6"
      },
      "source": [
        "#df.to_csv('Bikes_all.csv', index=False)"
      ],
      "execution_count": null,
      "outputs": []
    },
    {
      "cell_type": "markdown",
      "source": [
        "## Exploratory Data Analysis\n",
        "\n",
        "We can start with a very basic EDA of the Data:\n",
        "\n",
        "1. Months with the most amount of rides\n",
        "2. Days with the most amount of rides\n",
        "3. Days of the week with the most amount of rides \n",
        "4. Rides per Type of ride\n",
        "5. Rides with the most amount of distance\n",
        "6. Rides with the most amount of time\n",
        "7. Start locations with the most amount of distance\n",
        "8. Start location with the most amount of rides \n",
        "9. Distances vs Days of the week\n",
        "10. Member Type"
      ],
      "metadata": {
        "id": "BuXdxHF-6nH9"
      }
    },
    {
      "cell_type": "markdown",
      "source": [
        "### Reviewing any null values"
      ],
      "metadata": {
        "id": "F0kbZAqZaBe6"
      }
    },
    {
      "cell_type": "code",
      "source": [
        "df.isnull().sum()"
      ],
      "metadata": {
        "colab": {
          "base_uri": "https://localhost:8080/"
        },
        "id": "2X5ea5UvaGO_",
        "outputId": "c32bda6c-ff6e-4619-d121-5485d8c1ff2a"
      },
      "execution_count": 13,
      "outputs": [
        {
          "output_type": "execute_result",
          "data": {
            "text/plain": [
              "ride_id                    0\n",
              "rideable_type              0\n",
              "started_at                 0\n",
              "ended_at                   0\n",
              "start_station_name    456246\n",
              "start_station_id      456243\n",
              "end_station_name      487699\n",
              "end_station_id        487699\n",
              "start_lat                  0\n",
              "start_lng                  0\n",
              "end_lat                    0\n",
              "end_lng                    0\n",
              "member_casual              0\n",
              "time_per_ride              0\n",
              "distance                   0\n",
              "dtype: int64"
            ]
          },
          "metadata": {},
          "execution_count": 13
        }
      ]
    },
    {
      "cell_type": "markdown",
      "source": [
        "We could remove the other null values, which are from start/enc station name and id. Are those this null values represent a moyor amount of data on each column?"
      ],
      "metadata": {
        "id": "Sz3VUJWobXvb"
      }
    },
    {
      "cell_type": "code",
      "source": [
        "df.isnull().sum()/len(df)*100"
      ],
      "metadata": {
        "colab": {
          "base_uri": "https://localhost:8080/"
        },
        "id": "rH4lbb7ibFDM",
        "outputId": "a292ad61-e095-4379-d0ee-77f494d865a8"
      },
      "execution_count": 14,
      "outputs": [
        {
          "output_type": "execute_result",
          "data": {
            "text/plain": [
              "ride_id                0.000000\n",
              "rideable_type          0.000000\n",
              "started_at             0.000000\n",
              "ended_at               0.000000\n",
              "start_station_name    10.482710\n",
              "start_station_id      10.482641\n",
              "end_station_name      11.205374\n",
              "end_station_id        11.205374\n",
              "start_lat              0.000000\n",
              "start_lng              0.000000\n",
              "end_lat                0.000000\n",
              "end_lng                0.000000\n",
              "member_casual          0.000000\n",
              "time_per_ride          0.000000\n",
              "distance               0.000000\n",
              "dtype: float64"
            ]
          },
          "metadata": {},
          "execution_count": 14
        }
      ]
    },
    {
      "cell_type": "markdown",
      "source": [
        "We see there are roughly the 11% of data per column. We could leave it how it is right now, and at the end we could drop those null values in case we want to make an analysis on the Stations. "
      ],
      "metadata": {
        "id": "MhbSENWzb3__"
      }
    },
    {
      "cell_type": "markdown",
      "source": [
        "### Months with the most amount of rides"
      ],
      "metadata": {
        "id": "wnozvlmo_-w3"
      }
    },
    {
      "cell_type": "code",
      "source": [
        "df_copy = df.copy()\n",
        "df_copy.created_on = pd.to_datetime(df_copy[\"started_at\"])\n",
        "df_copy[\"started_at\"] = df_copy[\"started_at\"].dt.to_period(freq = \"M\")\n",
        "month_df = df_copy.groupby(\"started_at\").size()\n",
        "print(month_df)"
      ],
      "metadata": {
        "colab": {
          "base_uri": "https://localhost:8080/"
        },
        "id": "UBNyqYgy_8uM",
        "outputId": "db06e8f3-10b5-4425-e373-32768c03ec9b"
      },
      "execution_count": 17,
      "outputs": [
        {
          "output_type": "stream",
          "name": "stderr",
          "text": [
            "/usr/local/lib/python3.7/dist-packages/ipykernel_launcher.py:2: UserWarning: Pandas doesn't allow columns to be created via a new attribute name - see https://pandas.pydata.org/pandas-docs/stable/indexing.html#attribute-access\n",
            "  \n"
          ]
        },
        {
          "output_type": "stream",
          "name": "stdout",
          "text": [
            "started_at\n",
            "2021-01     96731\n",
            "2021-02     49408\n",
            "2021-03    228329\n",
            "2021-04    336963\n",
            "2021-05    531181\n",
            "2021-06    728878\n",
            "2021-07    821679\n",
            "2021-08    803646\n",
            "2021-09    755552\n",
            "Freq: M, dtype: int64\n"
          ]
        }
      ]
    },
    {
      "cell_type": "code",
      "source": [
        "plt.figure(figsize = (15,10))\n",
        "month_df.plot(x=\"started_at\")\n",
        "plt.title(\"Rides Distribution per Month\")\n",
        "plt.xlabel(\"Months\")\n",
        "plt.ylabel(\"Amount\")"
      ],
      "metadata": {
        "colab": {
          "base_uri": "https://localhost:8080/",
          "height": 650
        },
        "id": "k6zNdUb-AVQT",
        "outputId": "192e0aff-7f6b-4561-dae2-08a416b6600d"
      },
      "execution_count": 20,
      "outputs": [
        {
          "output_type": "execute_result",
          "data": {
            "text/plain": [
              "Text(0, 0.5, 'Amount')"
            ]
          },
          "metadata": {},
          "execution_count": 20
        },
        {
          "output_type": "display_data",
          "data": {
            "image/png": "[encoded data removed]",
            "text/plain": [
              "<Figure size 1080x720 with 1 Axes>"
            ]
          },
          "metadata": {
            "needs_background": "light"
          }
        }
      ]
    },
    {
      "cell_type": "markdown",
      "source": [
        "### Days with the most amount of rides"
      ],
      "metadata": {
        "id": "Ts8rVf0aA_7U"
      }
    },
    {
      "cell_type": "code",
      "source": [
        "df_copy = df.copy()\n",
        "df_copy.created_at = pd.to_datetime(df_copy[\"started_at\"])\n",
        "df_copy[\"started_at\"] = df_copy[\"started_at\"].dt.to_period(freq = \"D\")\n",
        "days_df = df_copy.groupby(\"started_at\").size()\n",
        "print(days_df)"
      ],
      "metadata": {
        "colab": {
          "base_uri": "https://localhost:8080/"
        },
        "id": "lPncHe6U5usp",
        "outputId": "0822dc6e-1e3b-4d6d-b7b1-deb983770e27"
      },
      "execution_count": 21,
      "outputs": [
        {
          "output_type": "stream",
          "name": "stderr",
          "text": [
            "/usr/local/lib/python3.7/dist-packages/ipykernel_launcher.py:2: UserWarning: Pandas doesn't allow columns to be created via a new attribute name - see https://pandas.pydata.org/pandas-docs/stable/indexing.html#attribute-access\n",
            "  \n"
          ]
        },
        {
          "output_type": "stream",
          "name": "stdout",
          "text": [
            "started_at\n",
            "2021-01-01     1066\n",
            "2021-01-02     2274\n",
            "2021-01-03     2382\n",
            "2021-01-04     3200\n",
            "2021-01-05     3844\n",
            "              ...  \n",
            "2021-09-26    26678\n",
            "2021-09-27    21669\n",
            "2021-09-28    22748\n",
            "2021-09-29    23634\n",
            "2021-09-30    24068\n",
            "Freq: D, Length: 273, dtype: int64\n"
          ]
        }
      ]
    },
    {
      "cell_type": "code",
      "source": [
        "plt.figure(figsize = (15,10))\n",
        "days_df.plot(x=\"started_at\")\n",
        "plt.title(\"Days of the month with most amount of rides\")\n",
        "plt.xlabel(\"Date\")\n",
        "plt.ylabel(\"Amount\")"
      ],
      "metadata": {
        "colab": {
          "base_uri": "https://localhost:8080/",
          "height": 650
        },
        "id": "FznCUJgkHEK_",
        "outputId": "bc8f41e8-d72c-40c1-990a-90df185be0c8"
      },
      "execution_count": 22,
      "outputs": [
        {
          "output_type": "execute_result",
          "data": {
            "text/plain": [
              "Text(0, 0.5, 'Amount')"
            ]
          },
          "metadata": {},
          "execution_count": 22
        },
        {
          "output_type": "display_data",
          "data": {
            "image/png": "[encoded data removed]",
            "text/plain": [
              "<Figure size 1080x720 with 1 Axes>"
            ]
          },
          "metadata": {
            "needs_background": "light"
          }
        }
      ]
    },
    {
      "cell_type": "markdown",
      "source": [
        "#### Days of the week with the most amount rides"
      ],
      "metadata": {
        "id": "_nEXpFYsHPIE"
      }
    },
    {
      "cell_type": "code",
      "source": [
        "cats = ['Monday', 'Tuesday', 'Wednesday', 'Thursday', 'Friday', 'Saturday', 'Sunday']\n",
        "df_copy = df.copy()\n",
        "df_copy.created_at = pd.to_datetime(df_copy[\"started_at\"])\n",
        "df_copy[\"started_at\"] = df_copy[\"started_at\"].dt.day_name()\n",
        "week_df = df_copy.groupby(\"started_at\").size().reindex(cats) \n",
        "print(week_df)"
      ],
      "metadata": {
        "colab": {
          "base_uri": "https://localhost:8080/"
        },
        "id": "YulXZefCHKy3",
        "outputId": "cad6d27d-c767-4cac-da30-6f4838453a97"
      },
      "execution_count": 23,
      "outputs": [
        {
          "output_type": "stream",
          "name": "stderr",
          "text": [
            "/usr/local/lib/python3.7/dist-packages/ipykernel_launcher.py:3: UserWarning: Pandas doesn't allow columns to be created via a new attribute name - see https://pandas.pydata.org/pandas-docs/stable/indexing.html#attribute-access\n",
            "  This is separate from the ipykernel package so we can avoid doing imports until\n"
          ]
        },
        {
          "output_type": "stream",
          "name": "stdout",
          "text": [
            "started_at\n",
            "Monday       548314\n",
            "Tuesday      559163\n",
            "Wednesday    573234\n",
            "Thursday     577243\n",
            "Friday       625053\n",
            "Saturday     781421\n",
            "Sunday       687939\n",
            "dtype: int64\n"
          ]
        }
      ]
    },
    {
      "cell_type": "code",
      "source": [
        "plt.figure(figsize = (15,10))\n",
        "week_df.plot(x=\"started_at\")\n",
        "plt.title(\"Days of the week with the most amount Rides\")\n",
        "plt.xlabel(\"Days of the week\")\n",
        "plt.ylabel(\"Amount\")"
      ],
      "metadata": {
        "colab": {
          "base_uri": "https://localhost:8080/",
          "height": 638
        },
        "id": "nYj8yXUuHWM_",
        "outputId": "65cbcf29-df1f-4a47-b986-49011ffe5e34"
      },
      "execution_count": 24,
      "outputs": [
        {
          "output_type": "execute_result",
          "data": {
            "text/plain": [
              "Text(0, 0.5, 'Amount')"
            ]
          },
          "metadata": {},
          "execution_count": 24
        },
        {
          "output_type": "display_data",
          "data": {
            "image/png": "[encoded data removed]",
            "text/plain": [
              "<Figure size 1080x720 with 1 Axes>"
            ]
          },
          "metadata": {
            "needs_background": "light"
          }
        }
      ]
    },
    {
      "cell_type": "markdown",
      "source": [
        "Days of the week distribution vs Distance"
      ],
      "metadata": {
        "id": "TaMB4SxpOZ3F"
      }
    },
    {
      "cell_type": "code",
      "source": [
        "plt.figure(figsize=(15,10))\n",
        "sns.boxplot(x = df_copy[\"started_at\"], y='distance', data = df_copy)\n",
        "title_string = \"Boxplot of Distances vs. Day of the Week\"\n",
        "plt.ylabel(\"Distance\")\n",
        "plt.xticks(rotation='vertical')\n",
        "plt.title(title_string)"
      ],
      "metadata": {
        "colab": {
          "base_uri": "https://localhost:8080/",
          "height": 687
        },
        "id": "AZfrIwOmKju9",
        "outputId": "eae825f1-e2fa-4470-8b81-510c661ee344"
      },
      "execution_count": 28,
      "outputs": [
        {
          "output_type": "execute_result",
          "data": {
            "text/plain": [
              "Text(0.5, 1.0, 'Boxplot of total_earning not Taken vs. Day of the Week')"
            ]
          },
          "metadata": {},
          "execution_count": 28
        },
        {
          "output_type": "display_data",
          "data": {
            "image/png": "[encoded data removed]",
            "text/plain": [
              "<Figure size 1080x720 with 1 Axes>"
            ]
          },
          "metadata": {
            "needs_background": "light"
          }
        }
      ]
    },
    {
      "cell_type": "code",
      "source": [
        "cats = ['Monday', 'Tuesday', 'Wednesday', 'Thursday', 'Friday', 'Saturday', 'Sunday']\n",
        "df_copy = df.copy()\n",
        "df_copy.created_at = pd.to_datetime(df_copy[\"started_at\"])\n",
        "df_copy[\"started_at\"] = df_copy[\"started_at\"].dt.day_name()\n",
        "week_df = df_copy.groupby(\"started_at\")[\"distance\"].sum().reindex(cats)  #.reindex(cats) \n",
        "print(week_df)"
      ],
      "metadata": {
        "colab": {
          "base_uri": "https://localhost:8080/"
        },
        "id": "yYAi3nerLLri",
        "outputId": "41c9bc55-c018-4f01-cb95-9cea546ef8ee"
      },
      "execution_count": 45,
      "outputs": [
        {
          "output_type": "stream",
          "name": "stderr",
          "text": [
            "/usr/local/lib/python3.7/dist-packages/ipykernel_launcher.py:3: UserWarning: Pandas doesn't allow columns to be created via a new attribute name - see https://pandas.pydata.org/pandas-docs/stable/indexing.html#attribute-access\n",
            "  This is separate from the ipykernel package so we can avoid doing imports until\n"
          ]
        },
        {
          "output_type": "stream",
          "name": "stdout",
          "text": [
            "started_at\n",
            "Monday       1.181717e+09\n",
            "Tuesday      1.213431e+09\n",
            "Wednesday    1.252209e+09\n",
            "Thursday     1.264654e+09\n",
            "Friday       1.384705e+09\n",
            "Saturday     1.824671e+09\n",
            "Sunday       1.592735e+09\n",
            "Name: distance, dtype: float64\n"
          ]
        }
      ]
    },
    {
      "cell_type": "code",
      "source": [
        "plt.figure(figsize = (15,10))\n",
        "week_df.plot(x=\"started_at\")\n",
        "plt.title(\"Days of the week with the most amount of Distance\")\n",
        "plt.xlabel(\"Days of the week\")\n",
        "plt.ylabel(\"Amount\")"
      ],
      "metadata": {
        "colab": {
          "base_uri": "https://localhost:8080/",
          "height": 638
        },
        "id": "10b-ZJHpLTpu",
        "outputId": "2ed51874-dbc2-475d-b22f-c0f3238113c5"
      },
      "execution_count": 46,
      "outputs": [
        {
          "output_type": "execute_result",
          "data": {
            "text/plain": [
              "Text(0, 0.5, 'Amount')"
            ]
          },
          "metadata": {},
          "execution_count": 46
        },
        {
          "output_type": "display_data",
          "data": {
            "image/png": "[encoded data removed]",
            "text/plain": [
              "<Figure size 1080x720 with 1 Axes>"
            ]
          },
          "metadata": {
            "needs_background": "light"
          }
        }
      ]
    },
    {
      "cell_type": "markdown",
      "source": [
        "## member and bike type"
      ],
      "metadata": {
        "id": "DNPBQqW5JZ-l"
      }
    },
    {
      "cell_type": "code",
      "source": [
        "df.columns"
      ],
      "metadata": {
        "colab": {
          "base_uri": "https://localhost:8080/"
        },
        "id": "feB-jaXVJj_M",
        "outputId": "6e345897-6d71-418d-e190-f7fdbf4e1397"
      },
      "execution_count": 25,
      "outputs": [
        {
          "output_type": "execute_result",
          "data": {
            "text/plain": [
              "Index(['ride_id', 'rideable_type', 'started_at', 'ended_at',\n",
              "       'start_station_name', 'start_station_id', 'end_station_name',\n",
              "       'end_station_id', 'start_lat', 'start_lng', 'end_lat', 'end_lng',\n",
              "       'member_casual', 'time_per_ride', 'distance'],\n",
              "      dtype='object')"
            ]
          },
          "metadata": {},
          "execution_count": 25
        }
      ]
    },
    {
      "cell_type": "code",
      "source": [
        "plt.figure(figsize = (25,15))\n",
        "plt.subplot(1,2,1)\n",
        "sns.countplot(\"rideable_type\", data=df, alpha = 0.75, edgecolor='black', linewidth=1.2, order= df[\"rideable_type\"].value_counts().index, color='deepskyblue')\n",
        "plt.title(\"Distribución por cantidad de propiedades por zona en Buenos Aires\")\n",
        "plt.xlabel(\"Zonas\")\n",
        "plt.ylabel(\"Cantidad\")\n",
        "\n",
        "plt.subplot(1,2,2)\n",
        "sns.countplot(data = df, y = \"member_casual\", order= df[\"member_casual\"].value_counts().index, color='deepskyblue') \n",
        "plt.title(\"Distribución por cantidad de propiedades por barrios en Buenos Aires\")\n",
        "plt.xlabel(\"Cantidad\")\n",
        "plt.ylabel(\"Barrios\")\n",
        "plt.tight_layout()\n",
        "plt.show()"
      ],
      "metadata": {
        "colab": {
          "base_uri": "https://localhost:8080/",
          "height": 1000
        },
        "id": "iWANGHxCHbeH",
        "outputId": "a1a87159-834c-4160-fcd8-5582e5c80aaf"
      },
      "execution_count": 26,
      "outputs": [
        {
          "output_type": "stream",
          "name": "stderr",
          "text": [
            "/usr/local/lib/python3.7/dist-packages/seaborn/_decorators.py:43: FutureWarning: Pass the following variable as a keyword arg: x. From version 0.12, the only valid positional argument will be `data`, and passing other arguments without an explicit keyword will result in an error or misinterpretation.\n",
            "  FutureWarning\n"
          ]
        },
        {
          "output_type": "display_data",
          "data": {
            "image/png": "[encoded data removed]",
            "text/plain": [
              "<Figure size 1800x1080 with 2 Axes>"
            ]
          },
          "metadata": {
            "needs_background": "light"
          }
        }
      ]
    },
    {
      "cell_type": "code",
      "source": [
        ""
      ],
      "metadata": {
        "id": "O-viJ8QxJz2m"
      },
      "execution_count": null,
      "outputs": []
    }
  ]
}